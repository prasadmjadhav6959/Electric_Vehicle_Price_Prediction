{
 "cells": [
  {
   "cell_type": "markdown",
   "id": "62e11a7e",
   "metadata": {},
   "source": [
    "### Electric Vehicle Price Prediction\n",
    "`Prasad Jadhav`"
   ]
  },
  {
   "cell_type": "code",
   "execution_count": 1,
   "id": "b8788adf",
   "metadata": {},
   "outputs": [],
   "source": [
    "import pandas as pd\n",
    "import numpy as np\n",
    "\n",
    "import matplotlib.pyplot as plt\n",
    "import seaborn as sns\n",
    "\n",
    "\n",
    "from sklearn.model_selection import train_test_split\n",
    "\n",
    "from sklearn.linear_model import LinearRegression\n",
    "from sklearn.tree import DecisionTreeRegressor\n",
    "from sklearn.ensemble import RandomForestRegressor\n",
    "from sklearn.ensemble import GradientBoostingRegressor\n",
    "from xgboost import XGBRegressor\n",
    "\n",
    "from sklearn.model_selection import GridSearchCV\n",
    "from sklearn.model_selection import RandomizedSearchCV\n",
    "\n",
    "from sklearn import metrics\n",
    "from sklearn.metrics import r2_score\n",
    "from sklearn.metrics import mean_absolute_error\n",
    "from sklearn.metrics import mean_squared_error\n",
    "from sklearn.metrics import make_scorer\n",
    "from sklearn.model_selection import cross_val_score\n",
    "\n",
    "import pickle"
   ]
  },
  {
   "cell_type": "code",
   "execution_count": 2,
   "id": "d54a72d3",
   "metadata": {},
   "outputs": [],
   "source": [
    "df = pd.read_csv('electric_vehicle.csv')"
   ]
  },
  {
   "cell_type": "markdown",
   "id": "9571d3b8",
   "metadata": {},
   "source": [
    "#### Data Overview\n",
    "- VIN (1-10) - The 1st 10 characters of each vehicle's Vehicle Identification Number (VIN).\n",
    "- County- The county in which the registered owner resides.\n",
    "- City - The city in which the registered owner resides.\n",
    "- State- The state in which the registered owner resides.\n",
    "- ZIP Code - The 5-digit zip code in which the registered owner resides.\n",
    "- Model Year - The model year of the vehicle is determined by decoding the Vehicle Identification Number (VIN).\n",
    "- Make- The manufacturer of the vehicle, determined by decoding the Vehicle Identification Number (VIN).\n",
    "- Model- The model of the vehicle is determined by decoding the Vehicle Identification Number (VIN).\n",
    "- Electric Vehicle Type - This distinguishes the vehicle as all-electric or a plug-in hybrid.\n",
    "- Clean Alternative Fuel Vehicle (CAFV) Eligibility - This categorizes vehicles as Clean Alternative Fuel Vehicles (CAFVs) based on the fuel requirement and electric-only range requirement.\n",
    "- Electric Range - Describes how far a vehicle can travel purely on its electric charge.\n",
    "- Base MSRP - This is the lowest Manufacturer's Suggested Retail Price (MSRP) for any trim level of the model in question.\n",
    "- Legislative District - The specific section of Washington State that the vehicle's owner resides in, as represented in the state legislature.\n",
    "- DOL Vehicle ID - Unique number assigned to each vehicle by the Department of Licensing for identification purposes.\n",
    "- Vehicle Location - The center of the ZIP Code for the registered vehicle.\n",
    "- Electric Utility - This is the electric power retail service territory serving the address of the registered vehicle.\n",
    "- Expected Price - This is the expected price of the vehicle."
   ]
  },
  {
   "cell_type": "code",
   "execution_count": 3,
   "id": "bd5a1fa4",
   "metadata": {},
   "outputs": [
    {
     "data": {
      "text/html": [
       "<div>\n",
       "<style scoped>\n",
       "    .dataframe tbody tr th:only-of-type {\n",
       "        vertical-align: middle;\n",
       "    }\n",
       "\n",
       "    .dataframe tbody tr th {\n",
       "        vertical-align: top;\n",
       "    }\n",
       "\n",
       "    .dataframe thead th {\n",
       "        text-align: right;\n",
       "    }\n",
       "</style>\n",
       "<table border=\"1\" class=\"dataframe\">\n",
       "  <thead>\n",
       "    <tr style=\"text-align: right;\">\n",
       "      <th></th>\n",
       "      <th>ID</th>\n",
       "      <th>VIN (1-10)</th>\n",
       "      <th>County</th>\n",
       "      <th>City</th>\n",
       "      <th>State</th>\n",
       "      <th>ZIP Code</th>\n",
       "      <th>Model Year</th>\n",
       "      <th>Make</th>\n",
       "      <th>Model</th>\n",
       "      <th>Electric Vehicle Type</th>\n",
       "      <th>Clean Alternative Fuel Vehicle (CAFV) Eligibility</th>\n",
       "      <th>Electric Range</th>\n",
       "      <th>Base MSRP</th>\n",
       "      <th>Legislative District</th>\n",
       "      <th>DOL Vehicle ID</th>\n",
       "      <th>Vehicle Location</th>\n",
       "      <th>Electric Utility</th>\n",
       "      <th>Expected Price ($1k)</th>\n",
       "    </tr>\n",
       "  </thead>\n",
       "  <tbody>\n",
       "    <tr>\n",
       "      <th>0</th>\n",
       "      <td>EV33174</td>\n",
       "      <td>5YJ3E1EC6L</td>\n",
       "      <td>Snohomish</td>\n",
       "      <td>LYNNWOOD</td>\n",
       "      <td>WA</td>\n",
       "      <td>98037.0</td>\n",
       "      <td>2020.0</td>\n",
       "      <td>TESLA</td>\n",
       "      <td>MODEL 3</td>\n",
       "      <td>Battery Electric Vehicle (BEV)</td>\n",
       "      <td>Clean Alternative Fuel Vehicle Eligible</td>\n",
       "      <td>308</td>\n",
       "      <td>0</td>\n",
       "      <td>32.0</td>\n",
       "      <td>109821694</td>\n",
       "      <td>POINT (-122.287614 47.83874)</td>\n",
       "      <td>PUGET SOUND ENERGY INC</td>\n",
       "      <td>50</td>\n",
       "    </tr>\n",
       "    <tr>\n",
       "      <th>1</th>\n",
       "      <td>EV40247</td>\n",
       "      <td>JN1AZ0CP8B</td>\n",
       "      <td>Skagit</td>\n",
       "      <td>BELLINGHAM</td>\n",
       "      <td>WA</td>\n",
       "      <td>98229.0</td>\n",
       "      <td>2011.0</td>\n",
       "      <td>NISSAN</td>\n",
       "      <td>LEAF</td>\n",
       "      <td>Battery Electric Vehicle (BEV)</td>\n",
       "      <td>Clean Alternative Fuel Vehicle Eligible</td>\n",
       "      <td>73</td>\n",
       "      <td>0</td>\n",
       "      <td>40.0</td>\n",
       "      <td>137375528</td>\n",
       "      <td>POINT (-122.414936 48.709388)</td>\n",
       "      <td>PUGET SOUND ENERGY INC</td>\n",
       "      <td>15</td>\n",
       "    </tr>\n",
       "    <tr>\n",
       "      <th>2</th>\n",
       "      <td>EV12248</td>\n",
       "      <td>WBY1Z2C56F</td>\n",
       "      <td>Pierce</td>\n",
       "      <td>TACOMA</td>\n",
       "      <td>WA</td>\n",
       "      <td>98422.0</td>\n",
       "      <td>2015.0</td>\n",
       "      <td>BMW</td>\n",
       "      <td>I3</td>\n",
       "      <td>Battery Electric Vehicle (BEV)</td>\n",
       "      <td>Clean Alternative Fuel Vehicle Eligible</td>\n",
       "      <td>81</td>\n",
       "      <td>0</td>\n",
       "      <td>27.0</td>\n",
       "      <td>150627382</td>\n",
       "      <td>POINT (-122.396286 47.293138)</td>\n",
       "      <td>BONNEVILLE POWER ADMINISTRATION||CITY OF TACOM...</td>\n",
       "      <td>18</td>\n",
       "    </tr>\n",
       "    <tr>\n",
       "      <th>3</th>\n",
       "      <td>EV55713</td>\n",
       "      <td>1G1RD6E44D</td>\n",
       "      <td>King</td>\n",
       "      <td>REDMOND</td>\n",
       "      <td>WA</td>\n",
       "      <td>98053.0</td>\n",
       "      <td>2013.0</td>\n",
       "      <td>CHEVROLET</td>\n",
       "      <td>VOLT</td>\n",
       "      <td>Plug-in Hybrid Electric Vehicle (PHEV)</td>\n",
       "      <td>Clean Alternative Fuel Vehicle Eligible</td>\n",
       "      <td>38</td>\n",
       "      <td>0</td>\n",
       "      <td>45.0</td>\n",
       "      <td>258766301</td>\n",
       "      <td>POINT (-122.024951 47.670286)</td>\n",
       "      <td>PUGET SOUND ENERGY INC||CITY OF TACOMA - (WA)</td>\n",
       "      <td>33.9</td>\n",
       "    </tr>\n",
       "    <tr>\n",
       "      <th>4</th>\n",
       "      <td>EV28799</td>\n",
       "      <td>1G1FY6S05K</td>\n",
       "      <td>Pierce</td>\n",
       "      <td>PUYALLUP</td>\n",
       "      <td>WA</td>\n",
       "      <td>98375.0</td>\n",
       "      <td>2019.0</td>\n",
       "      <td>CHEVROLET</td>\n",
       "      <td>BOLT EV</td>\n",
       "      <td>Battery Electric Vehicle (BEV)</td>\n",
       "      <td>Clean Alternative Fuel Vehicle Eligible</td>\n",
       "      <td>238</td>\n",
       "      <td>0</td>\n",
       "      <td>25.0</td>\n",
       "      <td>296998138</td>\n",
       "      <td>POINT (-122.321062 47.103797)</td>\n",
       "      <td>BONNEVILLE POWER ADMINISTRATION||CITY OF TACOM...</td>\n",
       "      <td>41.78</td>\n",
       "    </tr>\n",
       "  </tbody>\n",
       "</table>\n",
       "</div>"
      ],
      "text/plain": [
       "        ID  VIN (1-10)     County        City State  ZIP Code  Model Year  \\\n",
       "0  EV33174  5YJ3E1EC6L  Snohomish    LYNNWOOD    WA   98037.0      2020.0   \n",
       "1  EV40247  JN1AZ0CP8B     Skagit  BELLINGHAM    WA   98229.0      2011.0   \n",
       "2  EV12248  WBY1Z2C56F     Pierce      TACOMA    WA   98422.0      2015.0   \n",
       "3  EV55713  1G1RD6E44D       King     REDMOND    WA   98053.0      2013.0   \n",
       "4  EV28799  1G1FY6S05K     Pierce    PUYALLUP    WA   98375.0      2019.0   \n",
       "\n",
       "        Make    Model                   Electric Vehicle Type  \\\n",
       "0      TESLA  MODEL 3          Battery Electric Vehicle (BEV)   \n",
       "1     NISSAN     LEAF          Battery Electric Vehicle (BEV)   \n",
       "2        BMW       I3          Battery Electric Vehicle (BEV)   \n",
       "3  CHEVROLET     VOLT  Plug-in Hybrid Electric Vehicle (PHEV)   \n",
       "4  CHEVROLET  BOLT EV          Battery Electric Vehicle (BEV)   \n",
       "\n",
       "  Clean Alternative Fuel Vehicle (CAFV) Eligibility  Electric Range  \\\n",
       "0           Clean Alternative Fuel Vehicle Eligible             308   \n",
       "1           Clean Alternative Fuel Vehicle Eligible              73   \n",
       "2           Clean Alternative Fuel Vehicle Eligible              81   \n",
       "3           Clean Alternative Fuel Vehicle Eligible              38   \n",
       "4           Clean Alternative Fuel Vehicle Eligible             238   \n",
       "\n",
       "   Base MSRP  Legislative District  DOL Vehicle ID  \\\n",
       "0          0                  32.0       109821694   \n",
       "1          0                  40.0       137375528   \n",
       "2          0                  27.0       150627382   \n",
       "3          0                  45.0       258766301   \n",
       "4          0                  25.0       296998138   \n",
       "\n",
       "                Vehicle Location  \\\n",
       "0   POINT (-122.287614 47.83874)   \n",
       "1  POINT (-122.414936 48.709388)   \n",
       "2  POINT (-122.396286 47.293138)   \n",
       "3  POINT (-122.024951 47.670286)   \n",
       "4  POINT (-122.321062 47.103797)   \n",
       "\n",
       "                                    Electric Utility Expected Price ($1k)  \n",
       "0                             PUGET SOUND ENERGY INC                   50  \n",
       "1                             PUGET SOUND ENERGY INC                   15  \n",
       "2  BONNEVILLE POWER ADMINISTRATION||CITY OF TACOM...                   18  \n",
       "3      PUGET SOUND ENERGY INC||CITY OF TACOMA - (WA)                 33.9  \n",
       "4  BONNEVILLE POWER ADMINISTRATION||CITY OF TACOM...                41.78  "
      ]
     },
     "execution_count": 3,
     "metadata": {},
     "output_type": "execute_result"
    }
   ],
   "source": [
    "df.head()"
   ]
  },
  {
   "cell_type": "code",
   "execution_count": 4,
   "id": "ecc45815",
   "metadata": {},
   "outputs": [
    {
     "data": {
      "text/html": [
       "<div>\n",
       "<style scoped>\n",
       "    .dataframe tbody tr th:only-of-type {\n",
       "        vertical-align: middle;\n",
       "    }\n",
       "\n",
       "    .dataframe tbody tr th {\n",
       "        vertical-align: top;\n",
       "    }\n",
       "\n",
       "    .dataframe thead th {\n",
       "        text-align: right;\n",
       "    }\n",
       "</style>\n",
       "<table border=\"1\" class=\"dataframe\">\n",
       "  <thead>\n",
       "    <tr style=\"text-align: right;\">\n",
       "      <th></th>\n",
       "      <th>ID</th>\n",
       "      <th>VIN (1-10)</th>\n",
       "      <th>County</th>\n",
       "      <th>City</th>\n",
       "      <th>State</th>\n",
       "      <th>ZIP Code</th>\n",
       "      <th>Model Year</th>\n",
       "      <th>Make</th>\n",
       "      <th>Model</th>\n",
       "      <th>Electric Vehicle Type</th>\n",
       "      <th>Clean Alternative Fuel Vehicle (CAFV) Eligibility</th>\n",
       "      <th>Electric Range</th>\n",
       "      <th>Base MSRP</th>\n",
       "      <th>Legislative District</th>\n",
       "      <th>DOL Vehicle ID</th>\n",
       "      <th>Vehicle Location</th>\n",
       "      <th>Electric Utility</th>\n",
       "      <th>Expected Price ($1k)</th>\n",
       "    </tr>\n",
       "  </thead>\n",
       "  <tbody>\n",
       "    <tr>\n",
       "      <th>64348</th>\n",
       "      <td>EV6357</td>\n",
       "      <td>KNDCE3LG7L</td>\n",
       "      <td>King</td>\n",
       "      <td>SEATTLE</td>\n",
       "      <td>WA</td>\n",
       "      <td>98144.0</td>\n",
       "      <td>2020.0</td>\n",
       "      <td>KIA</td>\n",
       "      <td>NIRO</td>\n",
       "      <td>Battery Electric Vehicle (BEV)</td>\n",
       "      <td>Clean Alternative Fuel Vehicle Eligible</td>\n",
       "      <td>239</td>\n",
       "      <td>0</td>\n",
       "      <td>37.0</td>\n",
       "      <td>156575107</td>\n",
       "      <td>POINT (-122.30033 47.585339)</td>\n",
       "      <td>CITY OF SEATTLE - (WA)|CITY OF TACOMA - (WA)</td>\n",
       "      <td>33</td>\n",
       "    </tr>\n",
       "    <tr>\n",
       "      <th>64349</th>\n",
       "      <td>EV423</td>\n",
       "      <td>JTDKN3DP2D</td>\n",
       "      <td>Pierce</td>\n",
       "      <td>TACOMA</td>\n",
       "      <td>WA</td>\n",
       "      <td>98402.0</td>\n",
       "      <td>2013.0</td>\n",
       "      <td>TOYOTA</td>\n",
       "      <td>PRIUS PLUG-IN</td>\n",
       "      <td>Plug-in Hybrid Electric Vehicle (PHEV)</td>\n",
       "      <td>Not eligible due to low battery range</td>\n",
       "      <td>6</td>\n",
       "      <td>0</td>\n",
       "      <td>27.0</td>\n",
       "      <td>211048701</td>\n",
       "      <td>POINT (-122.443211 47.252172)</td>\n",
       "      <td>BONNEVILLE POWER ADMINISTRATION||CITY OF TACOM...</td>\n",
       "      <td>13.3</td>\n",
       "    </tr>\n",
       "    <tr>\n",
       "      <th>64350</th>\n",
       "      <td>EV27852</td>\n",
       "      <td>1G1FX6S05J</td>\n",
       "      <td>King</td>\n",
       "      <td>SEATTLE</td>\n",
       "      <td>WA</td>\n",
       "      <td>98119.0</td>\n",
       "      <td>2018.0</td>\n",
       "      <td>CHEVROLET</td>\n",
       "      <td>BOLT EV</td>\n",
       "      <td>Battery Electric Vehicle (BEV)</td>\n",
       "      <td>Clean Alternative Fuel Vehicle Eligible</td>\n",
       "      <td>238</td>\n",
       "      <td>0</td>\n",
       "      <td>36.0</td>\n",
       "      <td>135543411</td>\n",
       "      <td>POINT (-122.367721 47.639264)</td>\n",
       "      <td>CITY OF SEATTLE - (WA)|CITY OF TACOMA - (WA)</td>\n",
       "      <td>22.857</td>\n",
       "    </tr>\n",
       "    <tr>\n",
       "      <th>64351</th>\n",
       "      <td>EV830</td>\n",
       "      <td>WP1AE2A24H</td>\n",
       "      <td>King</td>\n",
       "      <td>SEATTLE</td>\n",
       "      <td>WA</td>\n",
       "      <td>98115.0</td>\n",
       "      <td>2017.0</td>\n",
       "      <td>PORSCHE</td>\n",
       "      <td>CAYENNE</td>\n",
       "      <td>Plug-in Hybrid Electric Vehicle (PHEV)</td>\n",
       "      <td>Not eligible due to low battery range</td>\n",
       "      <td>14</td>\n",
       "      <td>0</td>\n",
       "      <td>46.0</td>\n",
       "      <td>192459907</td>\n",
       "      <td>POINT (-122.297534 47.685291)</td>\n",
       "      <td>CITY OF SEATTLE - (WA)|CITY OF TACOMA - (WA)</td>\n",
       "      <td>45.7</td>\n",
       "    </tr>\n",
       "    <tr>\n",
       "      <th>64352</th>\n",
       "      <td>EV11120</td>\n",
       "      <td>1N4BZ1CP8K</td>\n",
       "      <td>Lewis</td>\n",
       "      <td>TOLEDO</td>\n",
       "      <td>WA</td>\n",
       "      <td>98591.0</td>\n",
       "      <td>2019.0</td>\n",
       "      <td>NISSAN</td>\n",
       "      <td>LEAF</td>\n",
       "      <td>Battery Electric Vehicle (BEV)</td>\n",
       "      <td>Clean Alternative Fuel Vehicle Eligible</td>\n",
       "      <td>150</td>\n",
       "      <td>0</td>\n",
       "      <td>20.0</td>\n",
       "      <td>477551595</td>\n",
       "      <td>POINT (-122.800917 46.444012)</td>\n",
       "      <td>BONNEVILLE POWER ADMINISTRATION||CITY OF TACOM...</td>\n",
       "      <td>35</td>\n",
       "    </tr>\n",
       "  </tbody>\n",
       "</table>\n",
       "</div>"
      ],
      "text/plain": [
       "            ID  VIN (1-10)  County     City State  ZIP Code  Model Year  \\\n",
       "64348   EV6357  KNDCE3LG7L    King  SEATTLE    WA   98144.0      2020.0   \n",
       "64349    EV423  JTDKN3DP2D  Pierce   TACOMA    WA   98402.0      2013.0   \n",
       "64350  EV27852  1G1FX6S05J    King  SEATTLE    WA   98119.0      2018.0   \n",
       "64351    EV830  WP1AE2A24H    King  SEATTLE    WA   98115.0      2017.0   \n",
       "64352  EV11120  1N4BZ1CP8K   Lewis   TOLEDO    WA   98591.0      2019.0   \n",
       "\n",
       "            Make          Model                   Electric Vehicle Type  \\\n",
       "64348        KIA           NIRO          Battery Electric Vehicle (BEV)   \n",
       "64349     TOYOTA  PRIUS PLUG-IN  Plug-in Hybrid Electric Vehicle (PHEV)   \n",
       "64350  CHEVROLET        BOLT EV          Battery Electric Vehicle (BEV)   \n",
       "64351    PORSCHE        CAYENNE  Plug-in Hybrid Electric Vehicle (PHEV)   \n",
       "64352     NISSAN           LEAF          Battery Electric Vehicle (BEV)   \n",
       "\n",
       "      Clean Alternative Fuel Vehicle (CAFV) Eligibility  Electric Range  \\\n",
       "64348           Clean Alternative Fuel Vehicle Eligible             239   \n",
       "64349             Not eligible due to low battery range               6   \n",
       "64350           Clean Alternative Fuel Vehicle Eligible             238   \n",
       "64351             Not eligible due to low battery range              14   \n",
       "64352           Clean Alternative Fuel Vehicle Eligible             150   \n",
       "\n",
       "       Base MSRP  Legislative District  DOL Vehicle ID  \\\n",
       "64348          0                  37.0       156575107   \n",
       "64349          0                  27.0       211048701   \n",
       "64350          0                  36.0       135543411   \n",
       "64351          0                  46.0       192459907   \n",
       "64352          0                  20.0       477551595   \n",
       "\n",
       "                    Vehicle Location  \\\n",
       "64348   POINT (-122.30033 47.585339)   \n",
       "64349  POINT (-122.443211 47.252172)   \n",
       "64350  POINT (-122.367721 47.639264)   \n",
       "64351  POINT (-122.297534 47.685291)   \n",
       "64352  POINT (-122.800917 46.444012)   \n",
       "\n",
       "                                        Electric Utility Expected Price ($1k)  \n",
       "64348       CITY OF SEATTLE - (WA)|CITY OF TACOMA - (WA)                   33  \n",
       "64349  BONNEVILLE POWER ADMINISTRATION||CITY OF TACOM...                 13.3  \n",
       "64350       CITY OF SEATTLE - (WA)|CITY OF TACOMA - (WA)               22.857  \n",
       "64351       CITY OF SEATTLE - (WA)|CITY OF TACOMA - (WA)                 45.7  \n",
       "64352  BONNEVILLE POWER ADMINISTRATION||CITY OF TACOM...                   35  "
      ]
     },
     "execution_count": 4,
     "metadata": {},
     "output_type": "execute_result"
    }
   ],
   "source": [
    "df.tail()"
   ]
  },
  {
   "cell_type": "code",
   "execution_count": 5,
   "id": "67181824",
   "metadata": {},
   "outputs": [
    {
     "data": {
      "text/plain": [
       "(64353, 18)"
      ]
     },
     "execution_count": 5,
     "metadata": {},
     "output_type": "execute_result"
    }
   ],
   "source": [
    "df.shape"
   ]
  },
  {
   "cell_type": "code",
   "execution_count": 6,
   "id": "099248cd",
   "metadata": {},
   "outputs": [
    {
     "name": "stdout",
     "output_type": "stream",
     "text": [
      "<class 'pandas.core.frame.DataFrame'>\n",
      "RangeIndex: 64353 entries, 0 to 64352\n",
      "Data columns (total 18 columns):\n",
      " #   Column                                             Non-Null Count  Dtype  \n",
      "---  ------                                             --------------  -----  \n",
      " 0   ID                                                 64353 non-null  object \n",
      " 1   VIN (1-10)                                         64353 non-null  object \n",
      " 2   County                                             64349 non-null  object \n",
      " 3   City                                               64344 non-null  object \n",
      " 4   State                                              64342 non-null  object \n",
      " 5   ZIP Code                                           64347 non-null  float64\n",
      " 6   Model Year                                         64346 non-null  float64\n",
      " 7   Make                                               64349 non-null  object \n",
      " 8   Model                                              64340 non-null  object \n",
      " 9   Electric Vehicle Type                              64353 non-null  object \n",
      " 10  Clean Alternative Fuel Vehicle (CAFV) Eligibility  64353 non-null  object \n",
      " 11  Electric Range                                     64353 non-null  int64  \n",
      " 12  Base MSRP                                          64353 non-null  int64  \n",
      " 13  Legislative District                               64184 non-null  float64\n",
      " 14  DOL Vehicle ID                                     64353 non-null  int64  \n",
      " 15  Vehicle Location                                   63843 non-null  object \n",
      " 16  Electric Utility                                   63631 non-null  object \n",
      " 17  Expected Price ($1k)                               64353 non-null  object \n",
      "dtypes: float64(3), int64(3), object(12)\n",
      "memory usage: 8.8+ MB\n"
     ]
    }
   ],
   "source": [
    "df.info()"
   ]
  },
  {
   "cell_type": "code",
   "execution_count": 7,
   "id": "bef7f478",
   "metadata": {},
   "outputs": [],
   "source": [
    "# df.isnull().sum()"
   ]
  },
  {
   "cell_type": "code",
   "execution_count": 8,
   "id": "ae47656f",
   "metadata": {},
   "outputs": [],
   "source": [
    "# df.duplicated().sum()"
   ]
  },
  {
   "cell_type": "code",
   "execution_count": 9,
   "id": "d324d12b",
   "metadata": {},
   "outputs": [
    {
     "data": {
      "text/plain": [
       "TESLA                   27903\n",
       "NISSAN                   8678\n",
       "CHEVROLET                6651\n",
       "FORD                     3850\n",
       "KIA                      3066\n",
       "BMW                      2707\n",
       "TOYOTA                   2700\n",
       "AUDI                     1265\n",
       "VOLKSWAGEN               1217\n",
       "CHRYSLER                 1091\n",
       "HYUNDAI                   894\n",
       "VOLVO                     688\n",
       "FIAT                      561\n",
       "HONDA                     528\n",
       "PORSCHE                   455\n",
       "JEEP                      436\n",
       "MITSUBISHI                376\n",
       "MINI                      303\n",
       "MERCEDES-BENZ             248\n",
       "SMART                     192\n",
       "POLESTAR                  164\n",
       "JAGUAR                    142\n",
       "CADILLAC                   69\n",
       "LINCOLN                    59\n",
       "SUBARU                     34\n",
       "LAND ROVER                 26\n",
       "RIVIAN                     26\n",
       "FISKER                     11\n",
       "AZURE DYNAMICS              3\n",
       "LUCID MOTORS                2\n",
       "TH!NK                       1\n",
       "DODGE                       1\n",
       "WHEEGO ELECTRIC CARS        1\n",
       "BENTLEY                     1\n",
       "Name: Make, dtype: int64"
      ]
     },
     "execution_count": 9,
     "metadata": {},
     "output_type": "execute_result"
    }
   ],
   "source": [
    "df['Make'].value_counts()"
   ]
  },
  {
   "cell_type": "code",
   "execution_count": 10,
   "id": "1d562bed",
   "metadata": {},
   "outputs": [
    {
     "data": {
      "text/plain": [
       "MODEL 3                 13138\n",
       "LEAF                     8679\n",
       "MODEL Y                  7622\n",
       "MODEL S                  4710\n",
       "VOLT                     3420\n",
       "                        ...  \n",
       "A8 E                        1\n",
       "LIFE                        1\n",
       "BENTAYGA                    1\n",
       "918 SPYDER                  1\n",
       "PRIUS PLUG-IN HYBRID        1\n",
       "Name: Model, Length: 107, dtype: int64"
      ]
     },
     "execution_count": 10,
     "metadata": {},
     "output_type": "execute_result"
    }
   ],
   "source": [
    "df['Model'].value_counts()"
   ]
  },
  {
   "cell_type": "code",
   "execution_count": 11,
   "id": "997e5a27",
   "metadata": {},
   "outputs": [
    {
     "data": {
      "text/plain": [
       "Battery Electric Vehicle (BEV)            47869\n",
       "Plug-in Hybrid Electric Vehicle (PHEV)    16484\n",
       "Name: Electric Vehicle Type, dtype: int64"
      ]
     },
     "execution_count": 11,
     "metadata": {},
     "output_type": "execute_result"
    }
   ],
   "source": [
    "df['Electric Vehicle Type'].value_counts()"
   ]
  },
  {
   "cell_type": "code",
   "execution_count": 12,
   "id": "94b1da1d",
   "metadata": {},
   "outputs": [
    {
     "data": {
      "text/plain": [
       "Clean Alternative Fuel Vehicle Eligible                         39948\n",
       "Eligibility unknown as battery range has not been researched    14938\n",
       "Not eligible due to low battery range                            9467\n",
       "Name: Clean Alternative Fuel Vehicle (CAFV) Eligibility, dtype: int64"
      ]
     },
     "execution_count": 12,
     "metadata": {},
     "output_type": "execute_result"
    }
   ],
   "source": [
    "df['Clean Alternative Fuel Vehicle (CAFV) Eligibility'].value_counts()"
   ]
  },
  {
   "cell_type": "code",
   "execution_count": 13,
   "id": "4b1b9b8c",
   "metadata": {},
   "outputs": [
    {
     "data": {
      "text/plain": [
       "0      14938\n",
       "215     4353\n",
       "84      2840\n",
       "220     2831\n",
       "238     2545\n",
       "       ...  \n",
       "95         2\n",
       "74         2\n",
       "48         2\n",
       "80         1\n",
       "57         1\n",
       "Name: Electric Range, Length: 98, dtype: int64"
      ]
     },
     "execution_count": 13,
     "metadata": {},
     "output_type": "execute_result"
    }
   ],
   "source": [
    "df['Electric Range'].value_counts()"
   ]
  },
  {
   "cell_type": "code",
   "execution_count": 14,
   "id": "bddf9ada",
   "metadata": {},
   "outputs": [
    {
     "data": {
      "text/plain": [
       "0         61263\n",
       "69900      1062\n",
       "34600       359\n",
       "31950       305\n",
       "28500       148\n",
       "52900       143\n",
       "38500       127\n",
       "32250       113\n",
       "59900       105\n",
       "54950       101\n",
       "39995        79\n",
       "33950        64\n",
       "44100        63\n",
       "36900        56\n",
       "64950        51\n",
       "45600        42\n",
       "36800        40\n",
       "52650        38\n",
       "34995        34\n",
       "55700        31\n",
       "98950        14\n",
       "110950       14\n",
       "53400        14\n",
       "75095        12\n",
       "90700        12\n",
       "102000       11\n",
       "81100        11\n",
       "35390         9\n",
       "184400        9\n",
       "43700         7\n",
       "109000        6\n",
       "89100         5\n",
       "66300         1\n",
       "91250         1\n",
       "32995         1\n",
       "845000        1\n",
       "32000         1\n",
       "Name: Base MSRP, dtype: int64"
      ]
     },
     "execution_count": 14,
     "metadata": {},
     "output_type": "execute_result"
    }
   ],
   "source": [
    "df['Base MSRP'].value_counts()"
   ]
  },
  {
   "cell_type": "code",
   "execution_count": 15,
   "id": "a5f11eed",
   "metadata": {},
   "outputs": [
    {
     "data": {
      "text/plain": [
       "41.0    4292\n",
       "45.0    4160\n",
       "48.0    3786\n",
       "36.0    3047\n",
       "46.0    2782\n",
       "43.0    2749\n",
       "1.0     2607\n",
       "5.0     2604\n",
       "37.0    2092\n",
       "34.0    2041\n",
       "22.0    1682\n",
       "18.0    1664\n",
       "32.0    1588\n",
       "40.0    1578\n",
       "23.0    1575\n",
       "21.0    1491\n",
       "44.0    1468\n",
       "11.0    1415\n",
       "26.0    1289\n",
       "10.0    1229\n",
       "17.0    1076\n",
       "31.0    1025\n",
       "42.0     984\n",
       "24.0     976\n",
       "47.0     976\n",
       "27.0     966\n",
       "49.0     930\n",
       "35.0     918\n",
       "33.0     862\n",
       "28.0     833\n",
       "39.0     813\n",
       "30.0     730\n",
       "2.0      704\n",
       "8.0      697\n",
       "38.0     642\n",
       "20.0     623\n",
       "25.0     608\n",
       "6.0      580\n",
       "12.0     573\n",
       "4.0      474\n",
       "19.0     414\n",
       "13.0     402\n",
       "29.0     397\n",
       "14.0     387\n",
       "9.0      341\n",
       "3.0      340\n",
       "16.0     330\n",
       "7.0      282\n",
       "15.0     156\n",
       "0.0        6\n",
       "Name: Legislative District, dtype: int64"
      ]
     },
     "execution_count": 15,
     "metadata": {},
     "output_type": "execute_result"
    }
   ],
   "source": [
    "df['Legislative District'].value_counts()"
   ]
  },
  {
   "cell_type": "code",
   "execution_count": 16,
   "id": "6358576f",
   "metadata": {},
   "outputs": [
    {
     "data": {
      "text/plain": [
       "PUGET SOUND ENERGY INC||CITY OF TACOMA - (WA)                                               22555\n",
       "PUGET SOUND ENERGY INC                                                                      12790\n",
       "CITY OF SEATTLE - (WA)|CITY OF TACOMA - (WA)                                                12514\n",
       "BONNEVILLE POWER ADMINISTRATION||PUD NO 1 OF CLARK COUNTY - (WA)                             3768\n",
       "BONNEVILLE POWER ADMINISTRATION||CITY OF TACOMA - (WA)||PENINSULA LIGHT COMPANY              2899\n",
       "                                                                                            ...  \n",
       "BONNEVILLE POWER ADMINISTRATION||CITY OF COULEE DAM - (WA)                                      2\n",
       "BONNEVILLE POWER ADMINISTRATION||PUD NO 1 OF ASOTIN COUNTY||INLAND POWER & LIGHT COMPANY        2\n",
       "BONNEVILLE POWER ADMINISTRATION||PUD NO 1 OF CLALLAM COUNTY|PUD NO 1 OF JEFFERSON COUNTY        1\n",
       "AVISTA CORP||INLAND POWER & LIGHT COMPANY                                                       1\n",
       "CITY OF SEATTLE - (WA)                                                                          1\n",
       "Name: Electric Utility, Length: 68, dtype: int64"
      ]
     },
     "execution_count": 16,
     "metadata": {},
     "output_type": "execute_result"
    }
   ],
   "source": [
    "df['Electric Utility'].value_counts()"
   ]
  },
  {
   "cell_type": "code",
   "execution_count": 17,
   "id": "3cc1572a",
   "metadata": {},
   "outputs": [
    {
     "data": {
      "text/plain": [
       "array(['Snohomish', 'Skagit', 'Pierce', 'King', 'Clark', 'Spokane',\n",
       "       'Island', 'Klickitat', 'Douglas', 'Jefferson', 'Whatcom',\n",
       "       'San Juan', 'Kitsap', 'Stevens', 'Thurston', 'Cumberland', 'Grant',\n",
       "       'Yakima', 'Benton', 'Cowlitz', 'Lewis', 'Kittitas', 'Chelan',\n",
       "       'Mason', 'Franklin', 'Adams', 'Walla Walla', 'Clallam', 'Whitman',\n",
       "       'Pacific', 'Asotin', 'Marin', 'Ferry', 'Skamania', 'Okanogan',\n",
       "       'Columbia', 'Montgomery', 'Grays Harbor', 'Lake', nan, 'Anchorage',\n",
       "       'Pend Oreille', 'Otero', 'Orange', 'San Diego', 'Los Angeles',\n",
       "       'Queens', 'Frederick', 'Lincoln', 'Wahkiakum', 'Fairfax',\n",
       "       'Honolulu', 'San Bernardino', 'New London', 'Muscogee', 'Bradley',\n",
       "       'Davidson', 'El Paso', 'Liberty', 'District Of Columbia',\n",
       "       'Calvert', 'Kings', 'Charles', 'Harrison', 'Chesapeake City',\n",
       "       'Coryell', 'Riverside', 'Newport', 'Allegheny', 'Prince Georges',\n",
       "       'Santa Clara', 'Howard', 'Stafford', 'Goochland', 'Laramie',\n",
       "       'Passaic', 'Anne Arundel', 'New Castle', 'Leavenworth', 'Monterey',\n",
       "       'Bell', 'Chaves', 'Powhatan', 'Fairbanks North Star', 'Garfield',\n",
       "       'Placer', 'Multnomah', 'Bexar', 'Wilson', 'Duval', 'Baltimore',\n",
       "       'Mecklenburg', 'Virginia Beach City', 'Riley', 'Bartow',\n",
       "       'Saint Clair', 'Dupage', 'Philadelphia', 'Wichita', 'Sarasota',\n",
       "       'Humacao', 'Suffolk', 'Sacramento', 'Hudson', 'Klamath', 'Platte',\n",
       "       'Pennington', 'Norfolk City', 'Rock Island', 'Flathead',\n",
       "       'Saint Marys', 'Salt Lake', 'Alexandria City', 'Alameda',\n",
       "       'Yamhill', 'Plaquemines', 'Ventura', 'Carson City', 'Erie',\n",
       "       'Prince William', 'Danville City', 'Harris', 'Pinellas', 'Ozaukee',\n",
       "       'Maricopa', 'Sarpy', 'Glacier', 'Hamilton', 'Guadalupe', 'Kern',\n",
       "       'Camden', 'Hillsborough', 'Carroll', 'Denton', 'Santa Cruz',\n",
       "       'Wake', 'Albemarle', 'Nueces', 'Washoe', 'Tipton'], dtype=object)"
      ]
     },
     "execution_count": 17,
     "metadata": {},
     "output_type": "execute_result"
    }
   ],
   "source": [
    "df['County'].unique()"
   ]
  },
  {
   "cell_type": "code",
   "execution_count": 18,
   "id": "1acf1800",
   "metadata": {},
   "outputs": [
    {
     "data": {
      "text/plain": [
       "array(['WA', 'NC', 'CA', nan, 'PA', 'IL', 'AE', 'NM', 'NY', 'MD', 'AP',\n",
       "       'VA', 'HI', 'CT', 'GA', 'TN', 'TX', 'DC', 'MS', 'RI', 'NE', 'NV',\n",
       "       'IN', 'WY', 'NJ', 'DE', 'KS', 'AK', 'OR', 'FL', 'PR', 'MA', 'MO',\n",
       "       'SD', 'MT', 'UT', 'LA', 'WI', 'AZ'], dtype=object)"
      ]
     },
     "execution_count": 18,
     "metadata": {},
     "output_type": "execute_result"
    }
   ],
   "source": [
    "df['State'].unique()"
   ]
  },
  {
   "cell_type": "code",
   "execution_count": 19,
   "id": "d692f9a4",
   "metadata": {},
   "outputs": [
    {
     "data": {
      "text/plain": [
       "array(['LYNNWOOD', 'BELLINGHAM', 'TACOMA', 'REDMOND', 'PUYALLUP',\n",
       "       'VANCOUVER', 'SEATTLE', 'SPOKANE', 'BOTHELL', 'KENMORE',\n",
       "       'SAMMAMISH', 'COUPEVILLE', 'WHITE SALMON', 'MUKILTEO',\n",
       "       'UNIVERSITY PLACE', 'COVINGTON', 'CLYDE HILL', 'STANWOOD',\n",
       "       'AUBURN', 'KIRKLAND', 'LAKE FOREST PARK', 'EAST WENATCHEE',\n",
       "       'PORT TOWNSEND', 'FERNDALE', 'SHORELINE', 'ISSAQUAH', 'EDMONDS',\n",
       "       'LAKEWOOD', 'SPOKANE VALLEY', 'LAKE TAPPS', 'MERCER ISLAND',\n",
       "       'SNOQUALMIE', 'DEER HARBOR', 'SILVERDALE', 'BONNEY LAKE',\n",
       "       'BELLEVUE', 'RIDGEFIELD', 'COLVILLE', 'FRIDAY HARBOR', 'YELM',\n",
       "       'BURIEN', 'FAYETTEVILLE', 'EPHRATA', 'LUMMI ISLAND',\n",
       "       'BATTLE GROUND', 'LYNDEN', 'TIETON', 'MARYSVILLE', 'SEATAC',\n",
       "       'PORT ORCHARD', 'PROSSER', 'OLYMPIA', 'RENTON', 'KELSO',\n",
       "       'CENTRALIA', 'NEWCASTLE', 'DUVALL', 'BREMERTON',\n",
       "       'BAINBRIDGE ISLAND', 'CLE ELUM', 'LEAVENWORTH', 'CARNATION',\n",
       "       'YAKIMA', 'EVERETT', 'CHEHALIS', 'SNOHOMISH', 'KENT', 'CAMAS',\n",
       "       'LACEY', 'ALLYN', 'SEDRO WOOLLEY', 'MOUNTLAKE TERRACE', 'PASCO',\n",
       "       'KINGSTON', 'KENNEWICK', 'ANACORTES', 'TUMWATER', 'WOODINVILLE',\n",
       "       'LIBERTY LAKE', 'BRIER', 'OTHELLO', 'WALLA WALLA', 'GREENBANK',\n",
       "       'EASTSOUND', 'INDIANOLA', 'MOUNT VERNON', 'LAKE STEVENS', 'OLGA',\n",
       "       'MALAGA', 'RICHLAND', 'FOX ISLAND', 'CAMANO ISLAND', 'SELAH',\n",
       "       'TENINO', 'MILL CREEK', 'GRAHAM', 'PORT ANGELES', 'MAPLE VALLEY',\n",
       "       'DUPONT', 'PULLMAN', 'TULALIP', 'JOINT BASE LEWIS MCCHORD',\n",
       "       'CHENEY', 'MONROE', 'WASHOUGAL', 'ELLENSBURG', 'BUCKLEY',\n",
       "       'FEDERAL WAY', 'POULSBO', 'MOSES LAKE', 'SEAVIEW', 'ENDICOTT',\n",
       "       'EDGEWOOD', 'OAK HARBOR', 'CLINTON', 'BOW', 'WENATCHEE', 'TUKWILA',\n",
       "       'MEDINA', 'CLARKSTON', 'RUSTON', 'VASHON', 'DES MOINES', 'BLAINE',\n",
       "       'GIG HARBOR', 'SEQUIM', 'GRANITE FALLS', 'SPANAWAY', 'PORT LUDLOW',\n",
       "       'LONGVIEW', 'WEST RICHLAND', 'BRUSH PRAIRIE', 'ELK', 'RAINIER',\n",
       "       'EVERSON', 'NORTH BEND', 'LANGLEY', 'YARROW POINT', 'RITZVILLE',\n",
       "       'NINE MILE FALLS', 'HANSVILLE', 'LAKEBAY', 'GRANGER', 'KALAMA',\n",
       "       'GRAPEVIEW', 'NORMANDY PARK', 'SHELTON', 'SAN RAFAEL',\n",
       "       'LONGBRANCH', 'TROUT LAKE', 'REPUBLIC', 'LA CENTER', 'MORTON',\n",
       "       'BLACK DIAMOND', 'MEAD', 'ARLINGTON', 'SUNNYSIDE', 'BELFAIR',\n",
       "       'NORDLAND', 'FALL CITY', 'ILWACO', 'STEVENSON', 'AIRWAY HEIGHTS',\n",
       "       'FAIRCHILD AIR FORCE BASE', 'RIVERSIDE', 'ORTING', 'WINTHROP',\n",
       "       'HUNTS POINT', 'SUQUAMISH', 'GRANDVIEW', 'GOLDENDALE',\n",
       "       'STEILACOOM', 'CHELAN', 'MILLWOOD', 'ENUMCLAW', 'ORCAS',\n",
       "       'EATONVILLE', 'LA CONNER', 'VAUGHN', 'DAYTON', 'QUILCENE', 'ETHEL',\n",
       "       'RONALD', 'FORT WASHINGTON', 'TOLEDO', 'RANDLE', 'ROY', 'SULTAN',\n",
       "       'FIRCREST', 'BEAUX ARTS', 'INCHELIUM', 'ROCHESTER', 'BREWSTER',\n",
       "       'FORKS', 'OCEAN SHORES', 'GREENACRES', 'WOODLAND', 'QUINCY',\n",
       "       'ABERDEEN', 'LOPEZ ISLAND', 'ORONDO', 'HIGHLAND PARK', 'BETHEL',\n",
       "       'FIFE', 'MILTON', 'HOQUIAM', 'NEAH BAY', 'ALGONA', 'WINLOCK',\n",
       "       'SUMNER', 'RAVENSDALE', 'POINT ROBERTS', 'APO', 'BENTON CITY',\n",
       "       'ANDERSON ISLAND', 'TOUCHET', 'OTIS ORCHARDS', 'UNION',\n",
       "       'MEDICAL LAKE', 'WAITSBURG', 'CASTLE ROCK', 'WOODWAY', 'CHUGIAK',\n",
       "       'SILVERLAKE', 'NASELLE', 'UNION GAP', 'OLALLA', 'NEWPORT',\n",
       "       'BURBANK', 'MANSON', 'SEABECK', 'FREELAND',\n",
       "       'HOLLOMAN AIR FORCE BASE', 'OCEAN PARK', 'MATTAWA', 'BRINNON',\n",
       "       'PACKWOOD', 'CASHMERE', 'NACHES', 'TWISP', 'TONASKET', 'COLBERT',\n",
       "       'ROSLYN', 'DALLESPORT', 'CARSON', 'SOAP LAKE', 'MARBLEMOUNT',\n",
       "       'NEWPORT BEACH', 'CONCRETE', 'CHEWELAH', 'ONALASKA', 'LYLE',\n",
       "       'SAN DIEGO', 'BURLINGTON', 'SAN PEDRO', 'PACIFIC BEACH',\n",
       "       'NEWMAN LAKE', 'TOPPENISH', 'GRAYLAND', 'COLLEGE PLACE', 'EASTON',\n",
       "       'DARRINGTON', 'AMBOY', 'GOLD BAR', 'JAMAICA', 'SHAW ISLAND',\n",
       "       'RAYMOND', 'CARLTON', 'OROVILLE', 'DEER PARK', 'SEKIU',\n",
       "       'FREDERICK', 'NAPAVINE', 'WHITE SWAN', 'PRESCOTT', 'KETTLE FALLS',\n",
       "       'SOUTH BEND', 'UNDERWOOD', 'MCCLEARY', 'FORD', 'CATHLAMET',\n",
       "       'MOSSYROCK', 'TAHUYA', 'OKANOGAN', 'SKAMOKAWA', 'COSMOPOLIS',\n",
       "       'ZILLAH', 'PACIFIC', 'FPO', 'COLFAX', 'FAIRFAX', 'HONOLULU',\n",
       "       'ALEXANDRIA', 'PRESTON', 'WELLPINIT', 'SNOQUALMIE PASS', 'ACME',\n",
       "       'HOODSPORT', 'APPLE VALLEY', 'WAPATO', 'METHOW', 'DEMING',\n",
       "       'GROTON', 'SILVER CREEK', 'OYSTERVILLE', 'GRAND COULEE', 'WALDRON',\n",
       "       'COLUMBUS', 'OAKVILLE', 'MAZAMA', 'MOXEE', 'CUSTER', 'CLEVELAND',\n",
       "       'KEYPORT', 'NASHVILLE', 'VALLEY', 'PORT HADLOCK', 'ALHAMBRA',\n",
       "       'OCEANSIDE', 'EL PASO', 'CHIMACUM', 'MONTESANO', 'HARRINGTON',\n",
       "       'ROCK ISLAND', 'KAILUA', 'ELMA', 'ALLENHURST', 'YACOLT',\n",
       "       'CHATTAROY', 'FAIRFIELD', 'EVANS', 'WESTPORT', 'WASHINGTON',\n",
       "       'CHESAPEAKE BEACH', 'MAPLE FALLS', 'LONG BEACH', 'VERADALE',\n",
       "       'PESHASTIN', 'ROCHE HARBOR', 'BROOKLYN', 'SKOKOMISH NATION',\n",
       "       'ENTIAT', 'BETHESDA', 'LITTLEROCK', 'SUMAS', 'ROYAL CITY',\n",
       "       'WALDORF', 'BILOXI', 'REARDAN', 'CHESAPEAKE', 'PURMELA',\n",
       "       'INDIAN WELLS', 'ASOTIN', 'MIDDLETOWN', 'ASHFORD', 'CHINO',\n",
       "       'HUSUM', 'PALOUSE', 'PAWCATUCK', 'OMAHA', 'WEXFORD', 'LAUGHLIN',\n",
       "       'WILKESON', 'SPANGLE', 'TOKELAND', 'CURLEW', 'PALO ALTO',\n",
       "       'FRUITLAND', 'OLD LYME', 'KOKOMO', 'LOON LAKE', 'AMANDA PARK',\n",
       "       'VALLEYFORD', 'CARBONADO', 'MICA', 'ROCKFORD', 'CENTERVILLE',\n",
       "       'STAFFORD', 'RICHMOND', 'MCCHORD AFB', 'JBLM', 'CHEYENNE',\n",
       "       'SOUTHWORTH', nan, 'GLENELG', 'MINERAL', 'OAK RIDGE',\n",
       "       'FOREST PARK', 'DAVENPORT', 'ANNAPOLIS', 'LAYTONSVILLE',\n",
       "       'LAKESIDE', 'OUTLOOK', 'CLAYMONT', 'LANSING', 'MONTEREY',\n",
       "       'HARKER HEIGHTS', 'NOOKSACK', 'SOUTH HILL', 'ROSWELL', 'POWHATAN',\n",
       "       'FAIRBANKS', 'ARIEL', 'POMEROY', 'SAINT JOHN', 'MESA', 'CONNELL',\n",
       "       'ROSEVILLE', 'WINCHESTER', 'PORTLAND', 'IONE', 'ALISO VIEJO',\n",
       "       'SOUTH PRAIRIE', 'OCEAN CITY', 'MOCLIPS', 'LAS VEGAS', 'TEKOA',\n",
       "       'SAN ANTONIO', 'DESERT AIRE', 'WILSON', 'JACKSONVILLE', 'CHINOOK',\n",
       "       'SKYKOMISH', 'CLEARLAKE', 'SPARKS GLENCOE', 'CHARLOTTE',\n",
       "       'VIRGINIA BEACH', 'MANHATTAN', 'ELKTON', 'NORTH BONNEVILLE',\n",
       "       'ADAIRSVILLE', 'ALMIRA', 'BELLEVILLE', 'GLENWOOD', 'WARDEN',\n",
       "       'ADDY', 'WESTMONT', 'ROSALIA', 'KITTITAS', 'PHILADELPHIA',\n",
       "       'WICHITA FALLS', 'ELTOPIA', 'SARASOTA', 'GAITHERSBURG', 'OMAK',\n",
       "       'RIO GRANDE', 'BUCODA', 'VISTA', 'LILLIWAUP', 'LEMOORE',\n",
       "       'ROOSEVELT', 'SATSOP', 'DORCHESTER', 'CLALLAM BAY', 'SACRAMENTO',\n",
       "       'QUIL CEDA VILLAGE', 'SECAUCUS', 'KLAMATH FALLS', 'ELECTRIC CITY',\n",
       "       'PLATTE CITY', 'WILBUR', 'RAPID CITY', 'CRESTON', 'COULEE DAM',\n",
       "       'COULEE CITY', 'NORFOLK', 'RICE', 'WHITEFISH', 'VIENNA',\n",
       "       'WAHKIACUS', 'MABTON', 'LEXINGTON PK', 'WEST VALLEY', 'ALAMEDA',\n",
       "       'NEWBERG', 'LAMONT', 'CLAYTON', 'BELLE CHASSE', 'BOSTON', 'COOK',\n",
       "       'BINGEN', 'PORT HUENEME', 'CARSON CITY', 'COPALIS CROSSING',\n",
       "       'TAHOLAH', 'BURKE', 'GRAND ISLAND', 'BARING', 'WOODBRIDGE',\n",
       "       'DANVILLE', 'SAN JOSE', 'BEAVER', 'HUGHESVILLE', 'HOUSTON',\n",
       "       'PALM HARBOR', 'CEDARBURG', 'GIFFORD', 'SEVEN BAYS', 'ANTHEM',\n",
       "       'COPALIS BEACH', 'PAPILLION', 'GARFIELD', 'BROWNING', 'NORRISTOWN',\n",
       "       'FORT BELVOIR', 'CARMEL', 'WISHRAM', 'COUGAR', 'MAITLAND', 'THORP',\n",
       "       'BAY CENTER', 'CUSICK', 'SPRINGDALE', 'CARROLLS', 'EDWALL',\n",
       "       'BAINBRIDGE IS', 'TUMTUM', 'SCHERTZ', 'RIDGECREST', 'SAINT MARYS',\n",
       "       'WATERVILLE', 'RUSKIN', 'COSTA MESA', 'GAMBRILLS', 'SALKUM',\n",
       "       'CURTIS', 'TOWNSEND', 'GARDENA', 'CAMARILLO', 'WESTMINSTER',\n",
       "       'LITTLE ELM', 'CINEBAR', 'EWA BEACH', 'POTOMAC', 'SANTA CRUZ',\n",
       "       'RALEIGH', 'CORONADO', 'CHARLOTTESVILLE', 'CORPUS CHRISTI', 'RENO',\n",
       "       'ATOKA', 'VADER', 'PALISADES', 'PASADENA', 'CHULA VISTA'],\n",
       "      dtype=object)"
      ]
     },
     "execution_count": 19,
     "metadata": {},
     "output_type": "execute_result"
    }
   ],
   "source": [
    "df['City'].unique()"
   ]
  },
  {
   "cell_type": "code",
   "execution_count": 20,
   "id": "f0d9f0e7",
   "metadata": {},
   "outputs": [],
   "source": [
    " # Model                                              \n",
    " # Electric Vehicle Type                              \n",
    " # Clean Alternative Fuel Vehicle (CAFV) Eligibility   \n",
    " # Electric Range                                     \n",
    " # Base MSRP                                          \n",
    " # Legislative District                               \n",
    " # Expected Price ($1k)   "
   ]
  },
  {
   "cell_type": "code",
   "execution_count": 21,
   "id": "6978124a",
   "metadata": {},
   "outputs": [],
   "source": [
    "df = df.drop(columns = ['State', 'City', 'Make', 'County', 'ZIP Code', \n",
    "                                       'ID', 'VIN (1-10)', 'Vehicle Location', 'DOL Vehicle ID', \n",
    "                                       'Electric Utility', 'Model'])"
   ]
  },
  {
   "cell_type": "code",
   "execution_count": 22,
   "id": "bcc4d9a7",
   "metadata": {},
   "outputs": [
    {
     "data": {
      "text/plain": [
       "Model Year                                             7\n",
       "Electric Vehicle Type                                  0\n",
       "Clean Alternative Fuel Vehicle (CAFV) Eligibility      0\n",
       "Electric Range                                         0\n",
       "Base MSRP                                              0\n",
       "Legislative District                                 169\n",
       "Expected Price ($1k)                                   0\n",
       "dtype: int64"
      ]
     },
     "execution_count": 22,
     "metadata": {},
     "output_type": "execute_result"
    }
   ],
   "source": [
    "df.isnull().sum()"
   ]
  },
  {
   "cell_type": "code",
   "execution_count": 23,
   "id": "da3998a0",
   "metadata": {},
   "outputs": [
    {
     "data": {
      "text/plain": [
       "55632"
      ]
     },
     "execution_count": 23,
     "metadata": {},
     "output_type": "execute_result"
    }
   ],
   "source": [
    "df.duplicated().sum()"
   ]
  },
  {
   "cell_type": "code",
   "execution_count": 24,
   "id": "156ccb9a",
   "metadata": {},
   "outputs": [],
   "source": [
    "df = df.dropna()"
   ]
  },
  {
   "cell_type": "code",
   "execution_count": 25,
   "id": "b8d92014",
   "metadata": {},
   "outputs": [],
   "source": [
    "df = df.drop_duplicates()"
   ]
  },
  {
   "cell_type": "code",
   "execution_count": 26,
   "id": "73416aeb",
   "metadata": {},
   "outputs": [
    {
     "name": "stdout",
     "output_type": "stream",
     "text": [
      "<class 'pandas.core.frame.DataFrame'>\n",
      "Int64Index: 8639 entries, 0 to 64343\n",
      "Data columns (total 7 columns):\n",
      " #   Column                                             Non-Null Count  Dtype  \n",
      "---  ------                                             --------------  -----  \n",
      " 0   Model Year                                         8639 non-null   float64\n",
      " 1   Electric Vehicle Type                              8639 non-null   object \n",
      " 2   Clean Alternative Fuel Vehicle (CAFV) Eligibility  8639 non-null   object \n",
      " 3   Electric Range                                     8639 non-null   int64  \n",
      " 4   Base MSRP                                          8639 non-null   int64  \n",
      " 5   Legislative District                               8639 non-null   float64\n",
      " 6   Expected Price ($1k)                               8639 non-null   object \n",
      "dtypes: float64(2), int64(2), object(3)\n",
      "memory usage: 539.9+ KB\n"
     ]
    }
   ],
   "source": [
    "df.info()"
   ]
  },
  {
   "cell_type": "code",
   "execution_count": 27,
   "id": "67b7ad33",
   "metadata": {},
   "outputs": [],
   "source": [
    "df['Year'] = df['Model Year'].astype(int)\n",
    "df['Legislative District'] = df['Legislative District'].astype(int)"
   ]
  },
  {
   "cell_type": "code",
   "execution_count": 28,
   "id": "8a1c70d7",
   "metadata": {},
   "outputs": [],
   "source": [
    "df['Expected Price ($1k)'] = df['Expected Price ($1k)'].replace('N/', np.NaN)"
   ]
  },
  {
   "cell_type": "code",
   "execution_count": 29,
   "id": "234e3a97",
   "metadata": {},
   "outputs": [],
   "source": [
    "# df['Expected Price ($1k)'] = df['Expected Price ($1k)'].astype(float)"
   ]
  },
  {
   "cell_type": "code",
   "execution_count": 30,
   "id": "f08a21fb",
   "metadata": {},
   "outputs": [
    {
     "data": {
      "text/html": [
       "<div>\n",
       "<style scoped>\n",
       "    .dataframe tbody tr th:only-of-type {\n",
       "        vertical-align: middle;\n",
       "    }\n",
       "\n",
       "    .dataframe tbody tr th {\n",
       "        vertical-align: top;\n",
       "    }\n",
       "\n",
       "    .dataframe thead th {\n",
       "        text-align: right;\n",
       "    }\n",
       "</style>\n",
       "<table border=\"1\" class=\"dataframe\">\n",
       "  <thead>\n",
       "    <tr style=\"text-align: right;\">\n",
       "      <th></th>\n",
       "      <th>Model Year</th>\n",
       "      <th>Electric Range</th>\n",
       "      <th>Base MSRP</th>\n",
       "      <th>Legislative District</th>\n",
       "      <th>Year</th>\n",
       "    </tr>\n",
       "  </thead>\n",
       "  <tbody>\n",
       "    <tr>\n",
       "      <th>count</th>\n",
       "      <td>8639.000000</td>\n",
       "      <td>8639.000000</td>\n",
       "      <td>8639.000000</td>\n",
       "      <td>8639.000000</td>\n",
       "      <td>8639.000000</td>\n",
       "    </tr>\n",
       "    <tr>\n",
       "      <th>mean</th>\n",
       "      <td>2017.912490</td>\n",
       "      <td>79.683297</td>\n",
       "      <td>4936.788980</td>\n",
       "      <td>26.764093</td>\n",
       "      <td>2017.912490</td>\n",
       "    </tr>\n",
       "    <tr>\n",
       "      <th>std</th>\n",
       "      <td>2.910883</td>\n",
       "      <td>89.967808</td>\n",
       "      <td>18924.606185</td>\n",
       "      <td>14.302350</td>\n",
       "      <td>2.910883</td>\n",
       "    </tr>\n",
       "    <tr>\n",
       "      <th>min</th>\n",
       "      <td>1993.000000</td>\n",
       "      <td>0.000000</td>\n",
       "      <td>0.000000</td>\n",
       "      <td>0.000000</td>\n",
       "      <td>1993.000000</td>\n",
       "    </tr>\n",
       "    <tr>\n",
       "      <th>25%</th>\n",
       "      <td>2016.000000</td>\n",
       "      <td>17.000000</td>\n",
       "      <td>0.000000</td>\n",
       "      <td>15.000000</td>\n",
       "      <td>2016.000000</td>\n",
       "    </tr>\n",
       "    <tr>\n",
       "      <th>50%</th>\n",
       "      <td>2018.000000</td>\n",
       "      <td>33.000000</td>\n",
       "      <td>0.000000</td>\n",
       "      <td>28.000000</td>\n",
       "      <td>2018.000000</td>\n",
       "    </tr>\n",
       "    <tr>\n",
       "      <th>75%</th>\n",
       "      <td>2020.000000</td>\n",
       "      <td>107.000000</td>\n",
       "      <td>0.000000</td>\n",
       "      <td>40.000000</td>\n",
       "      <td>2020.000000</td>\n",
       "    </tr>\n",
       "    <tr>\n",
       "      <th>max</th>\n",
       "      <td>2022.000000</td>\n",
       "      <td>337.000000</td>\n",
       "      <td>845000.000000</td>\n",
       "      <td>49.000000</td>\n",
       "      <td>2022.000000</td>\n",
       "    </tr>\n",
       "  </tbody>\n",
       "</table>\n",
       "</div>"
      ],
      "text/plain": [
       "        Model Year  Electric Range      Base MSRP  Legislative District  \\\n",
       "count  8639.000000     8639.000000    8639.000000           8639.000000   \n",
       "mean   2017.912490       79.683297    4936.788980             26.764093   \n",
       "std       2.910883       89.967808   18924.606185             14.302350   \n",
       "min    1993.000000        0.000000       0.000000              0.000000   \n",
       "25%    2016.000000       17.000000       0.000000             15.000000   \n",
       "50%    2018.000000       33.000000       0.000000             28.000000   \n",
       "75%    2020.000000      107.000000       0.000000             40.000000   \n",
       "max    2022.000000      337.000000  845000.000000             49.000000   \n",
       "\n",
       "              Year  \n",
       "count  8639.000000  \n",
       "mean   2017.912490  \n",
       "std       2.910883  \n",
       "min    1993.000000  \n",
       "25%    2016.000000  \n",
       "50%    2018.000000  \n",
       "75%    2020.000000  \n",
       "max    2022.000000  "
      ]
     },
     "execution_count": 30,
     "metadata": {},
     "output_type": "execute_result"
    }
   ],
   "source": [
    "df.describe()"
   ]
  },
  {
   "cell_type": "code",
   "execution_count": 31,
   "id": "684ff1b9",
   "metadata": {},
   "outputs": [
    {
     "data": {
      "text/html": [
       "<div>\n",
       "<style scoped>\n",
       "    .dataframe tbody tr th:only-of-type {\n",
       "        vertical-align: middle;\n",
       "    }\n",
       "\n",
       "    .dataframe tbody tr th {\n",
       "        vertical-align: top;\n",
       "    }\n",
       "\n",
       "    .dataframe thead th {\n",
       "        text-align: right;\n",
       "    }\n",
       "</style>\n",
       "<table border=\"1\" class=\"dataframe\">\n",
       "  <thead>\n",
       "    <tr style=\"text-align: right;\">\n",
       "      <th></th>\n",
       "      <th>Model Year</th>\n",
       "      <th>Electric Range</th>\n",
       "      <th>Base MSRP</th>\n",
       "      <th>Legislative District</th>\n",
       "      <th>Year</th>\n",
       "    </tr>\n",
       "  </thead>\n",
       "  <tbody>\n",
       "    <tr>\n",
       "      <th>Model Year</th>\n",
       "      <td>1.000000</td>\n",
       "      <td>-0.041952</td>\n",
       "      <td>-0.157029</td>\n",
       "      <td>0.007643</td>\n",
       "      <td>1.000000</td>\n",
       "    </tr>\n",
       "    <tr>\n",
       "      <th>Electric Range</th>\n",
       "      <td>-0.041952</td>\n",
       "      <td>1.000000</td>\n",
       "      <td>0.039578</td>\n",
       "      <td>-0.018532</td>\n",
       "      <td>-0.041952</td>\n",
       "    </tr>\n",
       "    <tr>\n",
       "      <th>Base MSRP</th>\n",
       "      <td>-0.157029</td>\n",
       "      <td>0.039578</td>\n",
       "      <td>1.000000</td>\n",
       "      <td>0.013656</td>\n",
       "      <td>-0.157029</td>\n",
       "    </tr>\n",
       "    <tr>\n",
       "      <th>Legislative District</th>\n",
       "      <td>0.007643</td>\n",
       "      <td>-0.018532</td>\n",
       "      <td>0.013656</td>\n",
       "      <td>1.000000</td>\n",
       "      <td>0.007643</td>\n",
       "    </tr>\n",
       "    <tr>\n",
       "      <th>Year</th>\n",
       "      <td>1.000000</td>\n",
       "      <td>-0.041952</td>\n",
       "      <td>-0.157029</td>\n",
       "      <td>0.007643</td>\n",
       "      <td>1.000000</td>\n",
       "    </tr>\n",
       "  </tbody>\n",
       "</table>\n",
       "</div>"
      ],
      "text/plain": [
       "                      Model Year  Electric Range  Base MSRP  \\\n",
       "Model Year              1.000000       -0.041952  -0.157029   \n",
       "Electric Range         -0.041952        1.000000   0.039578   \n",
       "Base MSRP              -0.157029        0.039578   1.000000   \n",
       "Legislative District    0.007643       -0.018532   0.013656   \n",
       "Year                    1.000000       -0.041952  -0.157029   \n",
       "\n",
       "                      Legislative District      Year  \n",
       "Model Year                        0.007643  1.000000  \n",
       "Electric Range                   -0.018532 -0.041952  \n",
       "Base MSRP                         0.013656 -0.157029  \n",
       "Legislative District              1.000000  0.007643  \n",
       "Year                              0.007643  1.000000  "
      ]
     },
     "execution_count": 31,
     "metadata": {},
     "output_type": "execute_result"
    }
   ],
   "source": [
    "df.corr()"
   ]
  },
  {
   "cell_type": "code",
   "execution_count": 32,
   "id": "1e0fb2ce",
   "metadata": {},
   "outputs": [],
   "source": [
    "df['Expected Price ($1k)'] = pd.to_numeric(df['Expected Price ($1k)'])"
   ]
  },
  {
   "cell_type": "code",
   "execution_count": 33,
   "id": "0ee836d5",
   "metadata": {},
   "outputs": [],
   "source": [
    "# df['Expected Price ($1k)'] = df['Expected Price ($1k)'] * 1000.0"
   ]
  },
  {
   "cell_type": "code",
   "execution_count": 34,
   "id": "6e7445eb",
   "metadata": {},
   "outputs": [],
   "source": [
    "# percentile = np.percentile(df['Expected Price ($1k)'], [98])[0]"
   ]
  },
  {
   "cell_type": "code",
   "execution_count": 35,
   "id": "bd21b412",
   "metadata": {},
   "outputs": [],
   "source": [
    "# df = df[(df['Expected Price ($1k)'] < percentile)]"
   ]
  },
  {
   "cell_type": "code",
   "execution_count": 36,
   "id": "6a0c2dff",
   "metadata": {},
   "outputs": [],
   "source": [
    "# sns.histplot(x = df['Expected Price ($1k)'])"
   ]
  },
  {
   "cell_type": "code",
   "execution_count": 37,
   "id": "7d6fa97d",
   "metadata": {},
   "outputs": [
    {
     "data": {
      "text/plain": [
       "<AxesSubplot:>"
      ]
     },
     "execution_count": 37,
     "metadata": {},
     "output_type": "execute_result"
    },
    {
     "data": {
      "image/png": "[encoded data removed]",
      "text/plain": [
       "<Figure size 432x288 with 1 Axes>"
      ]
     },
     "metadata": {
      "needs_background": "light"
     },
     "output_type": "display_data"
    }
   ],
   "source": [
    "df['Expected Price ($1k)'].plot(kind='box')"
   ]
  },
  {
   "cell_type": "code",
   "execution_count": 38,
   "id": "e5b997e3",
   "metadata": {},
   "outputs": [
    {
     "data": {
      "text/plain": [
       "<AxesSubplot:>"
      ]
     },
     "execution_count": 38,
     "metadata": {},
     "output_type": "execute_result"
    },
    {
     "data": {
      "image/png": "[encoded data removed]",
      "text/plain": [
       "<Figure size 432x288 with 1 Axes>"
      ]
     },
     "metadata": {
      "needs_background": "light"
     },
     "output_type": "display_data"
    }
   ],
   "source": [
    "df = df[df['Expected Price ($1k)']<200]\n",
    "df['Expected Price ($1k)'].plot(kind='box')"
   ]
  },
  {
   "cell_type": "code",
   "execution_count": 39,
   "id": "6b50e54e",
   "metadata": {},
   "outputs": [],
   "source": [
    "df = df.drop(columns=['Model Year'])"
   ]
  },
  {
   "cell_type": "code",
   "execution_count": 40,
   "id": "4085fd00",
   "metadata": {
    "scrolled": true
   },
   "outputs": [
    {
     "data": {
      "text/plain": [
       "Battery Electric Vehicle (BEV)            4538\n",
       "Plug-in Hybrid Electric Vehicle (PHEV)    4086\n",
       "Name: Electric Vehicle Type, dtype: int64"
      ]
     },
     "execution_count": 40,
     "metadata": {},
     "output_type": "execute_result"
    }
   ],
   "source": [
    "df['Electric Vehicle Type'].value_counts()"
   ]
  },
  {
   "cell_type": "code",
   "execution_count": 41,
   "id": "0a6fe277",
   "metadata": {},
   "outputs": [
    {
     "data": {
      "text/plain": [
       "Clean Alternative Fuel Vehicle Eligible                         4610\n",
       "Not eligible due to low battery range                           2840\n",
       "Eligibility unknown as battery range has not been researched    1174\n",
       "Name: Clean Alternative Fuel Vehicle (CAFV) Eligibility, dtype: int64"
      ]
     },
     "execution_count": 41,
     "metadata": {},
     "output_type": "execute_result"
    }
   ],
   "source": [
    "df['Clean Alternative Fuel Vehicle (CAFV) Eligibility'].value_counts()"
   ]
  },
  {
   "cell_type": "code",
   "execution_count": 42,
   "id": "94e79ac4",
   "metadata": {},
   "outputs": [],
   "source": [
    "# Battery Electric Vehicle (BEV) : 1\n",
    "# Plug-in Hybrid Electric Vehicle (PHEV) : 0\n",
    "\n",
    "df['Electric Vehicle Type'] = df['Electric Vehicle Type'].map({'Battery Electric Vehicle (BEV)':1,\n",
    "                                                               'Plug-in Hybrid Electric Vehicle (PHEV)':0})"
   ]
  },
  {
   "cell_type": "code",
   "execution_count": 43,
   "id": "3a137a05",
   "metadata": {},
   "outputs": [],
   "source": [
    "# Clean Alternative Fuel Vehicle Eligible : 1\n",
    "# Not eligible due to low battery range : 2\n",
    "# Eligibility unknown as battery range has not been researched : 0\n",
    "\n",
    "df['Clean Alternative Fuel Vehicle (CAFV) Eligibility'] = df['Clean Alternative Fuel Vehicle (CAFV) Eligibility'].map({'Clean Alternative Fuel Vehicle Eligible':1,\n",
    "                                                                                                                        'Not eligible due to low battery range':2,\n",
    "                                                                                                                        'Eligibility unknown as battery range has not been researched':0})"
   ]
  },
  {
   "cell_type": "code",
   "execution_count": 44,
   "id": "2c444636",
   "metadata": {},
   "outputs": [
    {
     "data": {
      "text/plain": [
       "1    4538\n",
       "0    4086\n",
       "Name: Electric Vehicle Type, dtype: int64"
      ]
     },
     "execution_count": 44,
     "metadata": {},
     "output_type": "execute_result"
    }
   ],
   "source": [
    "df['Electric Vehicle Type'].value_counts()"
   ]
  },
  {
   "cell_type": "code",
   "execution_count": 45,
   "id": "0f023b78",
   "metadata": {},
   "outputs": [
    {
     "data": {
      "text/plain": [
       "1    4610\n",
       "2    2840\n",
       "0    1174\n",
       "Name: Clean Alternative Fuel Vehicle (CAFV) Eligibility, dtype: int64"
      ]
     },
     "execution_count": 45,
     "metadata": {},
     "output_type": "execute_result"
    }
   ],
   "source": [
    "df['Clean Alternative Fuel Vehicle (CAFV) Eligibility'].value_counts()"
   ]
  },
  {
   "cell_type": "code",
   "execution_count": 46,
   "id": "a4658f22",
   "metadata": {},
   "outputs": [],
   "source": [
    "X = df.drop('Expected Price ($1k)',axis=1)\n",
    "y = df['Expected Price ($1k)']"
   ]
  },
  {
   "cell_type": "code",
   "execution_count": 47,
   "id": "2af32209",
   "metadata": {},
   "outputs": [],
   "source": [
    "X_train,X_test,y_train,y_test = train_test_split(X,y,test_size=0.20,random_state=42)"
   ]
  },
  {
   "cell_type": "code",
   "execution_count": 48,
   "id": "15dbe3cf",
   "metadata": {},
   "outputs": [
    {
     "data": {
      "text/html": [
       "<style>#sk-container-id-1 {color: black;background-color: white;}#sk-container-id-1 pre{padding: 0;}#sk-container-id-1 div.sk-toggleable {background-color: white;}#sk-container-id-1 label.sk-toggleable__label {cursor: pointer;display: block;width: 100%;margin-bottom: 0;padding: 0.3em;box-sizing: border-box;text-align: center;}#sk-container-id-1 label.sk-toggleable__label-arrow:before {content: \"▸\";float: left;margin-right: 0.25em;color: #696969;}#sk-container-id-1 label.sk-toggleable__label-arrow:hover:before {color: black;}#sk-container-id-1 div.sk-estimator:hover label.sk-toggleable__label-arrow:before {color: black;}#sk-container-id-1 div.sk-toggleable__content {max-height: 0;max-width: 0;overflow: hidden;text-align: left;background-color: #f0f8ff;}#sk-container-id-1 div.sk-toggleable__content pre {margin: 0.2em;color: black;border-radius: 0.25em;background-color: #f0f8ff;}#sk-container-id-1 input.sk-toggleable__control:checked~div.sk-toggleable__content {max-height: 200px;max-width: 100%;overflow: auto;}#sk-container-id-1 input.sk-toggleable__control:checked~label.sk-toggleable__label-arrow:before {content: \"▾\";}#sk-container-id-1 div.sk-estimator input.sk-toggleable__control:checked~label.sk-toggleable__label {background-color: #d4ebff;}#sk-container-id-1 div.sk-label input.sk-toggleable__control:checked~label.sk-toggleable__label {background-color: #d4ebff;}#sk-container-id-1 input.sk-hidden--visually {border: 0;clip: rect(1px 1px 1px 1px);clip: rect(1px, 1px, 1px, 1px);height: 1px;margin: -1px;overflow: hidden;padding: 0;position: absolute;width: 1px;}#sk-container-id-1 div.sk-estimator {font-family: monospace;background-color: #f0f8ff;border: 1px dotted black;border-radius: 0.25em;box-sizing: border-box;margin-bottom: 0.5em;}#sk-container-id-1 div.sk-estimator:hover {background-color: #d4ebff;}#sk-container-id-1 div.sk-parallel-item::after {content: \"\";width: 100%;border-bottom: 1px solid gray;flex-grow: 1;}#sk-container-id-1 div.sk-label:hover label.sk-toggleable__label {background-color: #d4ebff;}#sk-container-id-1 div.sk-serial::before {content: \"\";position: absolute;border-left: 1px solid gray;box-sizing: border-box;top: 0;bottom: 0;left: 50%;z-index: 0;}#sk-container-id-1 div.sk-serial {display: flex;flex-direction: column;align-items: center;background-color: white;padding-right: 0.2em;padding-left: 0.2em;position: relative;}#sk-container-id-1 div.sk-item {position: relative;z-index: 1;}#sk-container-id-1 div.sk-parallel {display: flex;align-items: stretch;justify-content: center;background-color: white;position: relative;}#sk-container-id-1 div.sk-item::before, #sk-container-id-1 div.sk-parallel-item::before {content: \"\";position: absolute;border-left: 1px solid gray;box-sizing: border-box;top: 0;bottom: 0;left: 50%;z-index: -1;}#sk-container-id-1 div.sk-parallel-item {display: flex;flex-direction: column;z-index: 1;position: relative;background-color: white;}#sk-container-id-1 div.sk-parallel-item:first-child::after {align-self: flex-end;width: 50%;}#sk-container-id-1 div.sk-parallel-item:last-child::after {align-self: flex-start;width: 50%;}#sk-container-id-1 div.sk-parallel-item:only-child::after {width: 0;}#sk-container-id-1 div.sk-dashed-wrapped {border: 1px dashed gray;margin: 0 0.4em 0.5em 0.4em;box-sizing: border-box;padding-bottom: 0.4em;background-color: white;}#sk-container-id-1 div.sk-label label {font-family: monospace;font-weight: bold;display: inline-block;line-height: 1.2em;}#sk-container-id-1 div.sk-label-container {text-align: center;}#sk-container-id-1 div.sk-container {/* jupyter's `normalize.less` sets `[hidden] { display: none; }` but bootstrap.min.css set `[hidden] { display: none !important; }` so we also need the `!important` here to be able to override the default hidden behavior on the sphinx rendered scikit-learn.org. See: https://github.com/scikit-learn/scikit-learn/issues/21755 */display: inline-block !important;position: relative;}#sk-container-id-1 div.sk-text-repr-fallback {display: none;}</style><div id=\"sk-container-id-1\" class=\"sk-top-container\"><div class=\"sk-text-repr-fallback\"><pre>XGBRegressor(base_score=0.5, booster=&#x27;gbtree&#x27;, callbacks=None,\n",
       "             colsample_bylevel=1, colsample_bynode=1, colsample_bytree=1,\n",
       "             early_stopping_rounds=None, enable_categorical=False,\n",
       "             eval_metric=None, gamma=0, gpu_id=-1, grow_policy=&#x27;depthwise&#x27;,\n",
       "             importance_type=None, interaction_constraints=&#x27;&#x27;,\n",
       "             learning_rate=0.300000012, max_bin=256, max_cat_to_onehot=4,\n",
       "             max_delta_step=0, max_depth=6, max_leaves=0, min_child_weight=1,\n",
       "             missing=nan, monotone_constraints=&#x27;()&#x27;, n_estimators=100, n_jobs=0,\n",
       "             num_parallel_tree=1, predictor=&#x27;auto&#x27;, random_state=0, reg_alpha=0,\n",
       "             reg_lambda=1, ...)</pre><b>In a Jupyter environment, please rerun this cell to show the HTML representation or trust the notebook. <br />On GitHub, the HTML representation is unable to render, please try loading this page with nbviewer.org.</b></div><div class=\"sk-container\" hidden><div class=\"sk-item\"><div class=\"sk-estimator sk-toggleable\"><input class=\"sk-toggleable__control sk-hidden--visually\" id=\"sk-estimator-id-1\" type=\"checkbox\" checked><label for=\"sk-estimator-id-1\" class=\"sk-toggleable__label sk-toggleable__label-arrow\">XGBRegressor</label><div class=\"sk-toggleable__content\"><pre>XGBRegressor(base_score=0.5, booster=&#x27;gbtree&#x27;, callbacks=None,\n",
       "             colsample_bylevel=1, colsample_bynode=1, colsample_bytree=1,\n",
       "             early_stopping_rounds=None, enable_categorical=False,\n",
       "             eval_metric=None, gamma=0, gpu_id=-1, grow_policy=&#x27;depthwise&#x27;,\n",
       "             importance_type=None, interaction_constraints=&#x27;&#x27;,\n",
       "             learning_rate=0.300000012, max_bin=256, max_cat_to_onehot=4,\n",
       "             max_delta_step=0, max_depth=6, max_leaves=0, min_child_weight=1,\n",
       "             missing=nan, monotone_constraints=&#x27;()&#x27;, n_estimators=100, n_jobs=0,\n",
       "             num_parallel_tree=1, predictor=&#x27;auto&#x27;, random_state=0, reg_alpha=0,\n",
       "             reg_lambda=1, ...)</pre></div></div></div></div></div>"
      ],
      "text/plain": [
       "XGBRegressor(base_score=0.5, booster='gbtree', callbacks=None,\n",
       "             colsample_bylevel=1, colsample_bynode=1, colsample_bytree=1,\n",
       "             early_stopping_rounds=None, enable_categorical=False,\n",
       "             eval_metric=None, gamma=0, gpu_id=-1, grow_policy='depthwise',\n",
       "             importance_type=None, interaction_constraints='',\n",
       "             learning_rate=0.300000012, max_bin=256, max_cat_to_onehot=4,\n",
       "             max_delta_step=0, max_depth=6, max_leaves=0, min_child_weight=1,\n",
       "             missing=nan, monotone_constraints='()', n_estimators=100, n_jobs=0,\n",
       "             num_parallel_tree=1, predictor='auto', random_state=0, reg_alpha=0,\n",
       "             reg_lambda=1, ...)"
      ]
     },
     "execution_count": 48,
     "metadata": {},
     "output_type": "execute_result"
    }
   ],
   "source": [
    "lr = LinearRegression()\n",
    "lr.fit(X_train,y_train)\n",
    "\n",
    "rf = RandomForestRegressor()\n",
    "rf.fit(X_train,y_train)\n",
    "\n",
    "gb = GradientBoostingRegressor()\n",
    "gb.fit(X_train,y_train)\n",
    "\n",
    "xg = XGBRegressor()\n",
    "xg.fit(X_train,y_train)"
   ]
  },
  {
   "cell_type": "code",
   "execution_count": 49,
   "id": "ae7e8707",
   "metadata": {},
   "outputs": [],
   "source": [
    "y_pred_1 = lr.predict(X_test)\n",
    "y_pred_2 = rf.predict(X_test)\n",
    "y_pred_3 = gb.predict(X_test)\n",
    "y_pred_4 = xg.predict(X_test)"
   ]
  },
  {
   "cell_type": "code",
   "execution_count": 50,
   "id": "ff988c0c",
   "metadata": {},
   "outputs": [],
   "source": [
    "score_1 = metrics.r2_score(y_test,y_pred_1)\n",
    "score_2 = metrics.r2_score(y_test,y_pred_2)\n",
    "score_3 = metrics.r2_score(y_test,y_pred_3)\n",
    "score_4 = metrics.r2_score(y_test,y_pred_4)"
   ]
  },
  {
   "cell_type": "code",
   "execution_count": 51,
   "id": "33911eda",
   "metadata": {},
   "outputs": [
    {
     "name": "stdout",
     "output_type": "stream",
     "text": [
      "0.29387620914829515 0.6222151397955471 0.6418527275447143 0.6566022692548229\n"
     ]
    }
   ],
   "source": [
    "print(score_1,score_2,score_3,score_4)"
   ]
  },
  {
   "cell_type": "code",
   "execution_count": 68,
   "id": "8f0c62b3",
   "metadata": {},
   "outputs": [
    {
     "data": {
      "text/html": [
       "<div>\n",
       "<style scoped>\n",
       "    .dataframe tbody tr th:only-of-type {\n",
       "        vertical-align: middle;\n",
       "    }\n",
       "\n",
       "    .dataframe tbody tr th {\n",
       "        vertical-align: top;\n",
       "    }\n",
       "\n",
       "    .dataframe thead th {\n",
       "        text-align: right;\n",
       "    }\n",
       "</style>\n",
       "<table border=\"1\" class=\"dataframe\">\n",
       "  <thead>\n",
       "    <tr style=\"text-align: right;\">\n",
       "      <th></th>\n",
       "      <th>Models</th>\n",
       "      <th>R2_Score</th>\n",
       "    </tr>\n",
       "  </thead>\n",
       "  <tbody>\n",
       "    <tr>\n",
       "      <th>0</th>\n",
       "      <td>LR</td>\n",
       "      <td>0.293876</td>\n",
       "    </tr>\n",
       "    <tr>\n",
       "      <th>1</th>\n",
       "      <td>RF</td>\n",
       "      <td>0.622215</td>\n",
       "    </tr>\n",
       "    <tr>\n",
       "      <th>2</th>\n",
       "      <td>GB</td>\n",
       "      <td>0.641853</td>\n",
       "    </tr>\n",
       "    <tr>\n",
       "      <th>3</th>\n",
       "      <td>XG</td>\n",
       "      <td>0.656602</td>\n",
       "    </tr>\n",
       "  </tbody>\n",
       "</table>\n",
       "</div>"
      ],
      "text/plain": [
       "  Models  R2_Score\n",
       "0     LR  0.293876\n",
       "1     RF  0.622215\n",
       "2     GB  0.641853\n",
       "3     XG  0.656602"
      ]
     },
     "execution_count": 68,
     "metadata": {},
     "output_type": "execute_result"
    }
   ],
   "source": [
    "predict_df = pd.DataFrame({'Models':['LR','RF','GB','XG'],\n",
    "              'R2_Score':[score_1,score_2,score_3,score_4]})\n",
    "predict_df"
   ]
  },
  {
   "cell_type": "code",
   "execution_count": 53,
   "id": "ddc1559e",
   "metadata": {},
   "outputs": [
    {
     "name": "stdout",
     "output_type": "stream",
     "text": [
      "Fitting 3 folds for each of 100 candidates, totalling 300 fits\n"
     ]
    },
    {
     "data": {
      "text/html": [
       "<style>#sk-container-id-2 {color: black;background-color: white;}#sk-container-id-2 pre{padding: 0;}#sk-container-id-2 div.sk-toggleable {background-color: white;}#sk-container-id-2 label.sk-toggleable__label {cursor: pointer;display: block;width: 100%;margin-bottom: 0;padding: 0.3em;box-sizing: border-box;text-align: center;}#sk-container-id-2 label.sk-toggleable__label-arrow:before {content: \"▸\";float: left;margin-right: 0.25em;color: #696969;}#sk-container-id-2 label.sk-toggleable__label-arrow:hover:before {color: black;}#sk-container-id-2 div.sk-estimator:hover label.sk-toggleable__label-arrow:before {color: black;}#sk-container-id-2 div.sk-toggleable__content {max-height: 0;max-width: 0;overflow: hidden;text-align: left;background-color: #f0f8ff;}#sk-container-id-2 div.sk-toggleable__content pre {margin: 0.2em;color: black;border-radius: 0.25em;background-color: #f0f8ff;}#sk-container-id-2 input.sk-toggleable__control:checked~div.sk-toggleable__content {max-height: 200px;max-width: 100%;overflow: auto;}#sk-container-id-2 input.sk-toggleable__control:checked~label.sk-toggleable__label-arrow:before {content: \"▾\";}#sk-container-id-2 div.sk-estimator input.sk-toggleable__control:checked~label.sk-toggleable__label {background-color: #d4ebff;}#sk-container-id-2 div.sk-label input.sk-toggleable__control:checked~label.sk-toggleable__label {background-color: #d4ebff;}#sk-container-id-2 input.sk-hidden--visually {border: 0;clip: rect(1px 1px 1px 1px);clip: rect(1px, 1px, 1px, 1px);height: 1px;margin: -1px;overflow: hidden;padding: 0;position: absolute;width: 1px;}#sk-container-id-2 div.sk-estimator {font-family: monospace;background-color: #f0f8ff;border: 1px dotted black;border-radius: 0.25em;box-sizing: border-box;margin-bottom: 0.5em;}#sk-container-id-2 div.sk-estimator:hover {background-color: #d4ebff;}#sk-container-id-2 div.sk-parallel-item::after {content: \"\";width: 100%;border-bottom: 1px solid gray;flex-grow: 1;}#sk-container-id-2 div.sk-label:hover label.sk-toggleable__label {background-color: #d4ebff;}#sk-container-id-2 div.sk-serial::before {content: \"\";position: absolute;border-left: 1px solid gray;box-sizing: border-box;top: 0;bottom: 0;left: 50%;z-index: 0;}#sk-container-id-2 div.sk-serial {display: flex;flex-direction: column;align-items: center;background-color: white;padding-right: 0.2em;padding-left: 0.2em;position: relative;}#sk-container-id-2 div.sk-item {position: relative;z-index: 1;}#sk-container-id-2 div.sk-parallel {display: flex;align-items: stretch;justify-content: center;background-color: white;position: relative;}#sk-container-id-2 div.sk-item::before, #sk-container-id-2 div.sk-parallel-item::before {content: \"\";position: absolute;border-left: 1px solid gray;box-sizing: border-box;top: 0;bottom: 0;left: 50%;z-index: -1;}#sk-container-id-2 div.sk-parallel-item {display: flex;flex-direction: column;z-index: 1;position: relative;background-color: white;}#sk-container-id-2 div.sk-parallel-item:first-child::after {align-self: flex-end;width: 50%;}#sk-container-id-2 div.sk-parallel-item:last-child::after {align-self: flex-start;width: 50%;}#sk-container-id-2 div.sk-parallel-item:only-child::after {width: 0;}#sk-container-id-2 div.sk-dashed-wrapped {border: 1px dashed gray;margin: 0 0.4em 0.5em 0.4em;box-sizing: border-box;padding-bottom: 0.4em;background-color: white;}#sk-container-id-2 div.sk-label label {font-family: monospace;font-weight: bold;display: inline-block;line-height: 1.2em;}#sk-container-id-2 div.sk-label-container {text-align: center;}#sk-container-id-2 div.sk-container {/* jupyter's `normalize.less` sets `[hidden] { display: none; }` but bootstrap.min.css set `[hidden] { display: none !important; }` so we also need the `!important` here to be able to override the default hidden behavior on the sphinx rendered scikit-learn.org. See: https://github.com/scikit-learn/scikit-learn/issues/21755 */display: inline-block !important;position: relative;}#sk-container-id-2 div.sk-text-repr-fallback {display: none;}</style><div id=\"sk-container-id-2\" class=\"sk-top-container\"><div class=\"sk-text-repr-fallback\"><pre>RandomizedSearchCV(cv=3,\n",
       "                   estimator=XGBRegressor(base_score=None, booster=None,\n",
       "                                          callbacks=None,\n",
       "                                          colsample_bylevel=None,\n",
       "                                          colsample_bynode=None,\n",
       "                                          colsample_bytree=None,\n",
       "                                          early_stopping_rounds=None,\n",
       "                                          enable_categorical=False,\n",
       "                                          eval_metric=None, gamma=None,\n",
       "                                          gpu_id=None, grow_policy=None,\n",
       "                                          importance_type=None,\n",
       "                                          interaction_constraints=None,\n",
       "                                          learning_rate=None, max_bin=None,\n",
       "                                          m...\n",
       "                                                  3.2, 6.4, 12.8, 25.6, 51.2,\n",
       "                                                  102.4, 200],\n",
       "                                        &#x27;learning_rate&#x27;: [0.01, 0.03, 0.06, 0.1,\n",
       "                                                          0.15, 0.2, 0.25,\n",
       "                                                          0.300000012, 0.4, 0.5,\n",
       "                                                          0.6, 0.7],\n",
       "                                        &#x27;max_depth&#x27;: [5, 6, 7, 8, 9, 10, 11, 12,\n",
       "                                                      13, 14],\n",
       "                                        &#x27;n_estimators&#x27;: [50, 65, 80, 100, 115,\n",
       "                                                         130, 150],\n",
       "                                        &#x27;reg_alpha&#x27;: [0, 0.1, 0.2, 0.4, 0.8,\n",
       "                                                      1.6, 3.2, 6.4, 12.8, 25.6,\n",
       "                                                      51.2, 102.4, 200],\n",
       "                                        &#x27;reg_lambda&#x27;: [0, 0.1, 0.2, 0.4, 0.8,\n",
       "                                                       1.6, 3.2, 6.4, 12.8,\n",
       "                                                       25.6, 51.2, 102.4,\n",
       "                                                       200]},\n",
       "                   random_state=15, verbose=1)</pre><b>In a Jupyter environment, please rerun this cell to show the HTML representation or trust the notebook. <br />On GitHub, the HTML representation is unable to render, please try loading this page with nbviewer.org.</b></div><div class=\"sk-container\" hidden><div class=\"sk-item sk-dashed-wrapped\"><div class=\"sk-label-container\"><div class=\"sk-label sk-toggleable\"><input class=\"sk-toggleable__control sk-hidden--visually\" id=\"sk-estimator-id-2\" type=\"checkbox\" ><label for=\"sk-estimator-id-2\" class=\"sk-toggleable__label sk-toggleable__label-arrow\">RandomizedSearchCV</label><div class=\"sk-toggleable__content\"><pre>RandomizedSearchCV(cv=3,\n",
       "                   estimator=XGBRegressor(base_score=None, booster=None,\n",
       "                                          callbacks=None,\n",
       "                                          colsample_bylevel=None,\n",
       "                                          colsample_bynode=None,\n",
       "                                          colsample_bytree=None,\n",
       "                                          early_stopping_rounds=None,\n",
       "                                          enable_categorical=False,\n",
       "                                          eval_metric=None, gamma=None,\n",
       "                                          gpu_id=None, grow_policy=None,\n",
       "                                          importance_type=None,\n",
       "                                          interaction_constraints=None,\n",
       "                                          learning_rate=None, max_bin=None,\n",
       "                                          m...\n",
       "                                                  3.2, 6.4, 12.8, 25.6, 51.2,\n",
       "                                                  102.4, 200],\n",
       "                                        &#x27;learning_rate&#x27;: [0.01, 0.03, 0.06, 0.1,\n",
       "                                                          0.15, 0.2, 0.25,\n",
       "                                                          0.300000012, 0.4, 0.5,\n",
       "                                                          0.6, 0.7],\n",
       "                                        &#x27;max_depth&#x27;: [5, 6, 7, 8, 9, 10, 11, 12,\n",
       "                                                      13, 14],\n",
       "                                        &#x27;n_estimators&#x27;: [50, 65, 80, 100, 115,\n",
       "                                                         130, 150],\n",
       "                                        &#x27;reg_alpha&#x27;: [0, 0.1, 0.2, 0.4, 0.8,\n",
       "                                                      1.6, 3.2, 6.4, 12.8, 25.6,\n",
       "                                                      51.2, 102.4, 200],\n",
       "                                        &#x27;reg_lambda&#x27;: [0, 0.1, 0.2, 0.4, 0.8,\n",
       "                                                       1.6, 3.2, 6.4, 12.8,\n",
       "                                                       25.6, 51.2, 102.4,\n",
       "                                                       200]},\n",
       "                   random_state=15, verbose=1)</pre></div></div></div><div class=\"sk-parallel\"><div class=\"sk-parallel-item\"><div class=\"sk-item\"><div class=\"sk-label-container\"><div class=\"sk-label sk-toggleable\"><input class=\"sk-toggleable__control sk-hidden--visually\" id=\"sk-estimator-id-3\" type=\"checkbox\" ><label for=\"sk-estimator-id-3\" class=\"sk-toggleable__label sk-toggleable__label-arrow\">estimator: XGBRegressor</label><div class=\"sk-toggleable__content\"><pre>XGBRegressor(base_score=None, booster=None, callbacks=None,\n",
       "             colsample_bylevel=None, colsample_bynode=None,\n",
       "             colsample_bytree=None, early_stopping_rounds=None,\n",
       "             enable_categorical=False, eval_metric=None, gamma=None,\n",
       "             gpu_id=None, grow_policy=None, importance_type=None,\n",
       "             interaction_constraints=None, learning_rate=None, max_bin=None,\n",
       "             max_cat_to_onehot=None, max_delta_step=None, max_depth=None,\n",
       "             max_leaves=None, min_child_weight=None, missing=nan,\n",
       "             monotone_constraints=None, n_estimators=100, n_jobs=None,\n",
       "             num_parallel_tree=None, predictor=None, random_state=15,\n",
       "             reg_alpha=None, reg_lambda=None, ...)</pre></div></div></div><div class=\"sk-serial\"><div class=\"sk-item\"><div class=\"sk-estimator sk-toggleable\"><input class=\"sk-toggleable__control sk-hidden--visually\" id=\"sk-estimator-id-4\" type=\"checkbox\" ><label for=\"sk-estimator-id-4\" class=\"sk-toggleable__label sk-toggleable__label-arrow\">XGBRegressor</label><div class=\"sk-toggleable__content\"><pre>XGBRegressor(base_score=None, booster=None, callbacks=None,\n",
       "             colsample_bylevel=None, colsample_bynode=None,\n",
       "             colsample_bytree=None, early_stopping_rounds=None,\n",
       "             enable_categorical=False, eval_metric=None, gamma=None,\n",
       "             gpu_id=None, grow_policy=None, importance_type=None,\n",
       "             interaction_constraints=None, learning_rate=None, max_bin=None,\n",
       "             max_cat_to_onehot=None, max_delta_step=None, max_depth=None,\n",
       "             max_leaves=None, min_child_weight=None, missing=nan,\n",
       "             monotone_constraints=None, n_estimators=100, n_jobs=None,\n",
       "             num_parallel_tree=None, predictor=None, random_state=15,\n",
       "             reg_alpha=None, reg_lambda=None, ...)</pre></div></div></div></div></div></div></div></div></div></div>"
      ],
      "text/plain": [
       "RandomizedSearchCV(cv=3,\n",
       "                   estimator=XGBRegressor(base_score=None, booster=None,\n",
       "                                          callbacks=None,\n",
       "                                          colsample_bylevel=None,\n",
       "                                          colsample_bynode=None,\n",
       "                                          colsample_bytree=None,\n",
       "                                          early_stopping_rounds=None,\n",
       "                                          enable_categorical=False,\n",
       "                                          eval_metric=None, gamma=None,\n",
       "                                          gpu_id=None, grow_policy=None,\n",
       "                                          importance_type=None,\n",
       "                                          interaction_constraints=None,\n",
       "                                          learning_rate=None, max_bin=None,\n",
       "                                          m...\n",
       "                                                  3.2, 6.4, 12.8, 25.6, 51.2,\n",
       "                                                  102.4, 200],\n",
       "                                        'learning_rate': [0.01, 0.03, 0.06, 0.1,\n",
       "                                                          0.15, 0.2, 0.25,\n",
       "                                                          0.300000012, 0.4, 0.5,\n",
       "                                                          0.6, 0.7],\n",
       "                                        'max_depth': [5, 6, 7, 8, 9, 10, 11, 12,\n",
       "                                                      13, 14],\n",
       "                                        'n_estimators': [50, 65, 80, 100, 115,\n",
       "                                                         130, 150],\n",
       "                                        'reg_alpha': [0, 0.1, 0.2, 0.4, 0.8,\n",
       "                                                      1.6, 3.2, 6.4, 12.8, 25.6,\n",
       "                                                      51.2, 102.4, 200],\n",
       "                                        'reg_lambda': [0, 0.1, 0.2, 0.4, 0.8,\n",
       "                                                       1.6, 3.2, 6.4, 12.8,\n",
       "                                                       25.6, 51.2, 102.4,\n",
       "                                                       200]},\n",
       "                   random_state=15, verbose=1)"
      ]
     },
     "execution_count": 53,
     "metadata": {},
     "output_type": "execute_result"
    }
   ],
   "source": [
    "param_grid = {'gamma': [0,0.1,0.2,0.4,0.8,1.6,3.2,6.4,12.8,25.6,51.2,102.4, 200],\n",
    "              'learning_rate': [0.01, 0.03, 0.06, 0.1, 0.15, 0.2, 0.25, 0.300000012, 0.4, 0.5, 0.6, 0.7],\n",
    "              'max_depth': [5,6,7,8,9,10,11,12,13,14],\n",
    "              'n_estimators': [50,65,80,100,115,130,150],\n",
    "              'reg_alpha': [0,0.1,0.2,0.4,0.8,1.6,3.2,6.4,12.8,25.6,51.2,102.4,200],\n",
    "              'reg_lambda': [0,0.1,0.2,0.4,0.8,1.6,3.2,6.4,12.8,25.6,51.2,102.4,200]}\n",
    "\n",
    "xg_1 = XGBRegressor(random_state=15,verbosity=0,silent=0)\n",
    "rcv = RandomizedSearchCV(estimator=xg_1,param_distributions=param_grid, n_iter=100, cv=3, \n",
    "                               verbose=1, random_state=15, n_jobs=-1)\n",
    "\n",
    "rcv.fit(X_train,y_train)"
   ]
  },
  {
   "cell_type": "code",
   "execution_count": 54,
   "id": "977a8ffc",
   "metadata": {},
   "outputs": [],
   "source": [
    "y_pred_5 = rcv.predict(X_test)"
   ]
  },
  {
   "cell_type": "code",
   "execution_count": 55,
   "id": "bfaafa5e",
   "metadata": {},
   "outputs": [],
   "source": [
    "score_5 = metrics.r2_score(y_test,y_pred_5)"
   ]
  },
  {
   "cell_type": "code",
   "execution_count": 56,
   "id": "5fc303da",
   "metadata": {},
   "outputs": [
    {
     "name": "stdout",
     "output_type": "stream",
     "text": [
      "0.6925875247348816\n"
     ]
    }
   ],
   "source": [
    "print(score_5)"
   ]
  },
  {
   "cell_type": "code",
   "execution_count": 57,
   "id": "f3731a69",
   "metadata": {},
   "outputs": [
    {
     "name": "stdout",
     "output_type": "stream",
     "text": [
      "Fitting 5 folds for each of 5 candidates, totalling 25 fits\n",
      "0.640902 with: {'min_samples_leaf': 50, 'max_depth': 15}\n",
      "0.641030 with: {'min_samples_leaf': 50, 'max_depth': 9}\n",
      "0.711968 with: {'min_samples_leaf': 10, 'max_depth': 9}\n",
      "0.529773 with: {'min_samples_leaf': 150, 'max_depth': 9}\n",
      "Best parameters with the minimum Mean Square Error are: {'min_samples_leaf': 150, 'max_depth': 9}\n",
      "0.650304 with: {'min_samples_leaf': 10, 'max_depth': 6}\n",
      "R2_Score 0.66698819033353\n",
      "MAE 7.431482244133794\n"
     ]
    }
   ],
   "source": [
    "dt = DecisionTreeRegressor()\n",
    "\n",
    "param = {\n",
    "    'max_depth':[6,9,12,15],\n",
    "    'min_samples_leaf':[10,50,100,150]\n",
    "}\n",
    "\n",
    "random_search = RandomizedSearchCV(dt,param_distributions=param,\n",
    "                                 n_iter=5,\n",
    "                                 n_jobs=-1,cv=5,verbose=3)\n",
    "\n",
    "dt = DecisionTreeRegressor(max_depth=8)\n",
    "dt.fit(X_train, y_train)\n",
    "y_pred = dt.predict(X_test)\n",
    "\n",
    "random_search.fit(X,y)\n",
    "\n",
    "means = random_search.cv_results_['mean_test_score']\n",
    "params = random_search.cv_results_['params']\n",
    "for mean, param in zip(means, params):\n",
    "    print(\"%f with: %r\" % (mean, param))\n",
    "    if mean == min(means):\n",
    "        print('Best parameters with the minimum Mean Square Error are:',param)\n",
    "\n",
    "print('R2_Score',r2_score(y_test,y_pred))\n",
    "print('MAE',mean_absolute_error(y_test,y_pred))"
   ]
  },
  {
   "cell_type": "code",
   "execution_count": 58,
   "id": "5f91fff5",
   "metadata": {},
   "outputs": [
    {
     "name": "stdout",
     "output_type": "stream",
     "text": [
      "Fitting 5 folds for each of 5 candidates, totalling 25 fits\n",
      "-201.743857 with: {'min_child_weight': 3, 'max_depth': 3, 'learning_rate': 0.15, 'gamma': 0.2, 'colsample_bytree': 0.7}\n",
      "-202.769126 with: {'min_child_weight': 1, 'max_depth': 8, 'learning_rate': 0.25, 'gamma': 0.3, 'colsample_bytree': 0.3}\n",
      "-203.798411 with: {'min_child_weight': 1, 'max_depth': 12, 'learning_rate': 0.25, 'gamma': 0.0, 'colsample_bytree': 0.5}\n",
      "-191.529649 with: {'min_child_weight': 5, 'max_depth': 6, 'learning_rate': 0.1, 'gamma': 0.0, 'colsample_bytree': 0.4}\n",
      "-203.833578 with: {'min_child_weight': 3, 'max_depth': 8, 'learning_rate': 0.2, 'gamma': 0.2, 'colsample_bytree': 0.3}\n",
      "Best parameters with the minimum Mean Square Error are: {'min_child_weight': 3, 'max_depth': 8, 'learning_rate': 0.2, 'gamma': 0.2, 'colsample_bytree': 0.3}\n"
     ]
    }
   ],
   "source": [
    "params={\n",
    " \"learning_rate\"    : [0.05, 0.10, 0.15, 0.20, 0.25, 0.30 ] ,\n",
    " \"max_depth\"        : [ 3, 4, 5, 6, 8, 10, 12, 15],\n",
    " \"min_child_weight\" : [ 1, 3, 5, 7 ],\n",
    " \"gamma\"            : [ 0.0, 0.1, 0.2 , 0.3, 0.4 ],\n",
    " \"colsample_bytree\" : [ 0.3, 0.4, 0.5 , 0.7 ]\n",
    "    \n",
    "}\n",
    "\n",
    "xgb_0 = XGBRegressor()\n",
    "\n",
    "random_search_1 = RandomizedSearchCV(xgb_0,param_distributions=params,\n",
    "                                 n_iter=5,scoring='neg_mean_squared_error',\n",
    "                                 n_jobs=-1,cv=5,verbose=3)\n",
    "\n",
    "random_search_1.fit(X,y)\n",
    "\n",
    "means = random_search_1.cv_results_['mean_test_score']\n",
    "params = random_search_1.cv_results_['params']\n",
    "for mean, param in zip(means, params):\n",
    "    print(\"%f with: %r\" % (mean, param))\n",
    "    if mean == min(means):\n",
    "        print('Best parameters with the minimum Mean Square Error are:',param)"
   ]
  },
  {
   "cell_type": "code",
   "execution_count": 59,
   "id": "d41a3c34",
   "metadata": {},
   "outputs": [
    {
     "name": "stdout",
     "output_type": "stream",
     "text": [
      "Score of Training: 77.29714475254163\n",
      "MAE : 2.03\n",
      "RMSE : 11.98\n",
      "\n",
      "Model Report\n",
      "RMSE : 11.98\n",
      "CV Score : Mean - 15.09 | Std - 1.216 | Min - 13.11 | Max - 17.52\n"
     ]
    }
   ],
   "source": [
    "xgb_2 = XGBRegressor(base_score=0.5, booster='gbtree', colsample_bylevel=1,\n",
    "             colsample_bynode=1, colsample_bytree=1, gamma=0.6, gpu_id=-1,\n",
    "             importance_type='gain', interaction_constraints='',\n",
    "             learning_rate=0.4, max_delta_step=0, max_depth=15,\n",
    "             min_child_weight=1, monotone_constraints='()',\n",
    "             n_estimators=100, n_jobs=0, num_parallel_tree=1, random_state=0,\n",
    "             reg_alpha=0, reg_lambda=1, scale_pos_weight=1, subsample=1,\n",
    "             tree_method='exact', validate_parameters=1, verbosity=None)\n",
    "\n",
    "xgb_2.fit(X,y)\n",
    "y_pred = xgb_2.predict(X)\n",
    "\n",
    "score = r2_score(y,y_pred)\n",
    "print(\"Score of Training:\",100*score)\n",
    "print(\"MAE : %.4g\" % np.sqrt(mean_absolute_error(y,y_pred)))\n",
    "print(\"RMSE : %.4g\" % np.sqrt(mean_squared_error(y,y_pred)))\n",
    "\n",
    "cv_score = cross_val_score(xgb_2,X, y, cv=20, scoring='neg_mean_squared_error')\n",
    "cv_score = np.sqrt(np.abs(cv_score))\n",
    "    \n",
    "print(\"\\nModel Report\")\n",
    "print(\"RMSE : %.4g\" % np.sqrt(mean_squared_error(y,y_pred)))\n",
    "print(\"CV Score : Mean - %.4g | Std - %.4g | Min - %.4g | Max - %.4g\" % (np.mean(cv_score),np.std(cv_score),np.min(cv_score),np.max(cv_score)))"
   ]
  },
  {
   "cell_type": "code",
   "execution_count": 60,
   "id": "5676618c",
   "metadata": {},
   "outputs": [
    {
     "name": "stdout",
     "output_type": "stream",
     "text": [
      "Score of Training: 78.05778584549157\n",
      "RMSE : 11.74\n"
     ]
    }
   ],
   "source": [
    "y_pred = xgb_2.predict(X_train)\n",
    "score = r2_score(y_train,y_pred)\n",
    "print(\"Score of Training:\",100*score)\n",
    "print(\"RMSE : %.4g\" % np.sqrt(mean_squared_error(y_train,y_pred)))"
   ]
  },
  {
   "cell_type": "code",
   "execution_count": 61,
   "id": "10333384",
   "metadata": {},
   "outputs": [],
   "source": [
    "# cv_score = cross_val_score(xgb2,X_train, y_train, cv=20, scoring = make_scorer(mean_squared_error))\n",
    "# cv_score = np.sqrt(np.abs(cv_score))\n",
    "\n",
    "# print(\"\\nModel Report\")\n",
    "# print(\"RMSE : %.4g\" % np.sqrt(mean_squared_error(y_train,y_pred)))\n",
    "# print(\"CV Score : Mean - %.4g | Std - %.4g | Min - %.4g | Max - %.4g\" % (np.mean(cv_score),np.std(cv_score),np.min(cv_score),np.max(cv_score)))\n",
    "\n",
    "# y_test_pred = xgb2.predict(X_test)\n",
    "# score = r2_score(y_test,y_test_pred)\n",
    "# print(\"Score of Testing:\",100*score)\n",
    "# print(\"RMSE : %.4g\" % np.sqrt(mean_squared_error(y_test,y_test_pred)))\n",
    "# cv_score = cross_val_score(xgb2,X_test, y_test, cv=20, scoring = make_scorer(mean_squared_error))\n",
    "# cv_score = np.sqrt(np.abs(cv_score))\n",
    "   \n",
    "# print(\"\\nModel Report\")\n",
    "# print(\"RMSE : %.4g\" % np.sqrt(mean_squared_error(y_test,y_test_pred)))\n",
    "# print(\"CV Score : Mean - %.4g | Std - %.4g | Min - %.4g | Max - %.4g\" % (np.mean(cv_score),np.std(cv_score),np.min(cv_score),np.max(cv_score)))"
   ]
  },
  {
   "cell_type": "code",
   "execution_count": 62,
   "id": "504326f5",
   "metadata": {},
   "outputs": [],
   "source": [
    "pickle.dump(xgb_2,open('electric_vehicle_price_predictor.pkl','wb'))"
   ]
  },
  {
   "cell_type": "code",
   "execution_count": 63,
   "id": "c9ccd44d",
   "metadata": {},
   "outputs": [],
   "source": [
    "model = pickle.load(open('electric_vehicle_price_predictor.pkl','rb'))"
   ]
  },
  {
   "cell_type": "code",
   "execution_count": 67,
   "id": "79ddda4a",
   "metadata": {},
   "outputs": [],
   "source": [
    "df.to_csv('electric_vehicle_clean.csv')"
   ]
  },
  {
   "cell_type": "code",
   "execution_count": 66,
   "id": "65398c71",
   "metadata": {},
   "outputs": [
    {
     "name": "stdout",
     "output_type": "stream",
     "text": [
      "Enter Vehicle Details\n",
      "Enter the Vehicle Type: 1\n",
      "Enter the CAFV Eligibility: 1\n",
      "Enter the Electric Range: 308\n",
      "Enter the Base MSRP: 0\n",
      "Enter the Legislative District: 32\n",
      "Enter the Year: 2020\n"
     ]
    },
    {
     "data": {
      "text/plain": [
       "array([50.019276], dtype=float32)"
      ]
     },
     "execution_count": 66,
     "metadata": {},
     "output_type": "execute_result"
    }
   ],
   "source": [
    "print('Enter Vehicle Details')\n",
    "\n",
    "vehicle_type = int(input('Enter the Vehicle Type: '))\n",
    "cafv_eligibility = int(input('Enter the CAFV Eligibility: '))\n",
    "e_range = int(input('Enter the Electric Range: '))\n",
    "msrp = int(input('Enter the Base MSRP: '))\n",
    "legislative_district = int(input('Enter the Legislative District: '))\n",
    "year = int(input('Enter the Year: '))\n",
    "\n",
    "input_point = np.array([[vehicle_type, cafv_eligibility, e_range, msrp, legislative_district, year]])\n",
    "\n",
    "model.predict(input_point)"
   ]
  },
  {
   "cell_type": "markdown",
   "id": "b0b4537a",
   "metadata": {},
   "source": [
    "#### Thank You!"
   ]
  }
 ],
 "metadata": {
  "kernelspec": {
   "display_name": "Python 3 (ipykernel)",
   "language": "python",
   "name": "python3"
  },
  "language_info": {
   "codemirror_mode": {
    "name": "ipython",
    "version": 3
   },
   "file_extension": ".py",
   "mimetype": "text/x-python",
   "name": "python",
   "nbconvert_exporter": "python",
   "pygments_lexer": "ipython3",
   "version": "3.10.5"
  }
 },
 "nbformat": 4,
 "nbformat_minor": 5
}
